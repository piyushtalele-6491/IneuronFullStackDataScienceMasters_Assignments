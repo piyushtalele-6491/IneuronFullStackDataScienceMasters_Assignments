{
 "cells": [
  {
   "cell_type": "markdown",
   "id": "5ce1f291",
   "metadata": {},
   "source": [
    "#### What are the two values of the Boolean data type? How do you write them?\n",
    "\n",
    "\n"
   ]
  },
  {
   "cell_type": "raw",
   "id": "1e8ca48b",
   "metadata": {
    "ExecuteTime": {
     "end_time": "2023-05-25T12:49:15.250291Z",
     "start_time": "2023-05-25T12:49:15.233377Z"
    }
   },
   "source": [
    "True: Represents the truth value \"true\" or \"on.\"\n",
    "It can be written as the keyword True.\n",
    "\n",
    "False: Represents the truth value \"false\" or \"off.\"\n",
    "It can be written as the keyword False."
   ]
  },
  {
   "cell_type": "code",
   "execution_count": 3,
   "id": "bd4a8a31",
   "metadata": {
    "ExecuteTime": {
     "end_time": "2023-05-25T12:49:31.085982Z",
     "start_time": "2023-05-25T12:49:31.078440Z"
    }
   },
   "outputs": [
    {
     "name": "stdout",
     "output_type": "stream",
     "text": [
      "x is true\n",
      "y is false\n"
     ]
    }
   ],
   "source": [
    "x = True\n",
    "y = False\n",
    "\n",
    "if x:\n",
    "    print(\"x is true\")\n",
    "\n",
    "if not y:\n",
    "    print(\"y is false\")"
   ]
  },
  {
   "cell_type": "markdown",
   "id": "2fa92b80",
   "metadata": {},
   "source": [
    "#### What are the three different types of Boolean operators?\n"
   ]
  },
  {
   "cell_type": "raw",
   "id": "c2091e0a",
   "metadata": {},
   "source": [
    "There are three types of Boolean operators 'and' , 'or' , 'not'"
   ]
  },
  {
   "cell_type": "code",
   "execution_count": 4,
   "id": "7aa635b3",
   "metadata": {
    "ExecuteTime": {
     "end_time": "2023-05-25T12:50:38.867085Z",
     "start_time": "2023-05-25T12:50:38.850565Z"
    }
   },
   "outputs": [
    {
     "name": "stdout",
     "output_type": "stream",
     "text": [
      "False\n",
      "True\n",
      "False\n"
     ]
    }
   ],
   "source": [
    "x = True\n",
    "y = False\n",
    "\n",
    "result1 = x and y  # False\n",
    "result2 = x or y  # True\n",
    "result3 = not x  # False\n",
    "\n",
    "print(result1)\n",
    "print(result2)\n",
    "print(result3)"
   ]
  },
  {
   "cell_type": "markdown",
   "id": "e387906c",
   "metadata": {},
   "source": [
    "#### Make a list of each Boolean operator's truth tables (i.e. every possible combination of Boolean values for the operator and what it evaluate ).\n"
   ]
  },
  {
   "cell_type": "markdown",
   "id": "f01dbe9b",
   "metadata": {},
   "source": [
    "Sure! Here are the truth tables for each Boolean operator:\n",
    "\n",
    "1. Logical AND (`and`):\n",
    "\n",
    "| Operand 1 | Operand 2 | Result |\n",
    "|-----------|-----------|--------|\n",
    "|   False   |   False   | False  |\n",
    "|   False   |   True    | False  |\n",
    "|   True    |   False   | False  |\n",
    "|   True    |   True    | True   |\n",
    "\n",
    "The `and` operator returns `True` only if both operands are `True`.\n",
    "\n",
    "2. Logical OR (`or`):\n",
    "\n",
    "| Operand 1 | Operand 2 | Result |\n",
    "|-----------|-----------|--------|\n",
    "|   False   |   False   | False  |\n",
    "|   False   |   True    | True   |\n",
    "|   True    |   False   | True   |\n",
    "|   True    |   True    | True   |\n",
    "\n",
    "The `or` operator returns `True` if at least one of the operands is `True`.\n",
    "\n",
    "3. Logical NOT (`not`):\n",
    "\n",
    "| Operand | Result |\n",
    "|---------|--------|\n",
    "|  False  | True   |\n",
    "|  True   | False  |\n",
    "\n",
    "The `not` operator negates the Boolean value of its operand.\n",
    "\n",
    "These truth tables illustrate the possible combinations of Boolean values for each operator and the resulting evaluation."
   ]
  },
  {
   "cell_type": "markdown",
   "id": "d8ddf003",
   "metadata": {},
   "source": [
    "#### What are the values of the following expressions?\n",
    "\n",
    "(5 > 4) and (3 == 5)\n",
    "\n",
    "not (5 > 4)\n",
    "\n",
    "(5 > 4) or (3 == 5)\n",
    "\n",
    "not ((5 > 4) or (3 == 5))\n",
    "\n",
    "(True and True) and (True == False)\n",
    "\n",
    "(not False) or (not True)\n"
   ]
  },
  {
   "cell_type": "code",
   "execution_count": 6,
   "id": "ba87b004",
   "metadata": {
    "ExecuteTime": {
     "end_time": "2023-05-25T13:49:28.874467Z",
     "start_time": "2023-05-25T13:49:28.856785Z"
    }
   },
   "outputs": [
    {
     "name": "stdout",
     "output_type": "stream",
     "text": [
      "False\n",
      "False\n",
      "True\n",
      "False\n",
      "False\n",
      "True\n"
     ]
    }
   ],
   "source": [
    "print((5 > 4) and (3 == 5))\n",
    "\n",
    "print(not (5 > 4))\n",
    "\n",
    "print((5 > 4) or (3 == 5))\n",
    "\n",
    "print(not ((5 > 4) or (3 == 5)))\n",
    "\n",
    "print((True and True) and (True == False))\n",
    "\n",
    "print((not False) or (not True))"
   ]
  },
  {
   "cell_type": "markdown",
   "id": "2cd22863",
   "metadata": {},
   "source": [
    "#### What are the six comparison operators?\n"
   ]
  },
  {
   "cell_type": "raw",
   "id": "37b2a32e",
   "metadata": {
    "ExecuteTime": {
     "end_time": "2023-05-25T13:50:36.472786Z",
     "start_time": "2023-05-25T13:50:36.467998Z"
    }
   },
   "source": [
    "The following are the 6 comparision operators\n",
    "\n",
    "==\n",
    "!=\n",
    ">\n",
    "<\n",
    ">=\n",
    "<="
   ]
  },
  {
   "cell_type": "markdown",
   "id": "baebb64f",
   "metadata": {},
   "source": [
    "#### Identify the three blocks in this code:\n",
    "spam = 0\n",
    "\n",
    "if spam == 10:\n",
    "\n",
    " print('eggs')\n",
    "if spam > 5:\n",
    "\n",
    " print('bacon')\n",
    " \n",
    "else:\n",
    "\n",
    " print('ham')\n",
    " \n",
    " print('spam')\n",
    " \n",
    " print('spam')\n"
   ]
  },
  {
   "cell_type": "markdown",
   "id": "cc8de104",
   "metadata": {},
   "source": [
    "#### How do you tell the difference between the equal to and assignment operators?Describe a condition and when you would use one.\n"
   ]
  },
  {
   "cell_type": "code",
   "execution_count": 8,
   "id": "5ab1f707",
   "metadata": {
    "ExecuteTime": {
     "end_time": "2023-05-25T13:52:11.120637Z",
     "start_time": "2023-05-25T13:52:11.112642Z"
    }
   },
   "outputs": [
    {
     "name": "stdout",
     "output_type": "stream",
     "text": [
      "x and y are not equal\n",
      "The value of z is: 15\n"
     ]
    }
   ],
   "source": [
    "# Equal to (==) operator\n",
    "x = 5\n",
    "y = 10\n",
    "\n",
    "if x == y:\n",
    "    print(\"x and y are equal\")\n",
    "else:\n",
    "    print(\"x and y are not equal\")\n",
    "\n",
    "# Assignment (=) operator\n",
    "z = x + y\n",
    "\n",
    "print(\"The value of z is:\", z)\n"
   ]
  },
  {
   "cell_type": "markdown",
   "id": "c36ec147",
   "metadata": {},
   "source": [
    "#### Write code that prints Hello if 1 is stored in spam, prints Howdy if 2 is stored in spam, and prints Greetings! if anything else is stored in spam.\n",
    "\n"
   ]
  },
  {
   "cell_type": "code",
   "execution_count": 12,
   "id": "611f505d",
   "metadata": {
    "ExecuteTime": {
     "end_time": "2023-05-25T13:54:51.234603Z",
     "start_time": "2023-05-25T13:54:49.940268Z"
    }
   },
   "outputs": [
    {
     "name": "stdout",
     "output_type": "stream",
     "text": [
      "Enter the value for Span 2\n",
      "Howdy\n"
     ]
    }
   ],
   "source": [
    "spam = int(input(\"Enter the value for Span \"))\n",
    "\n",
    "if spam == 1:\n",
    "    print(\"Hello\")\n",
    "elif spam == 2:\n",
    "    print(\"Howdy\")\n",
    "else:\n",
    "    print(\"Greetings!\")\n"
   ]
  },
  {
   "cell_type": "markdown",
   "id": "bc095d03",
   "metadata": {},
   "source": [
    "\n",
    "#### If your programme is stuck in an endless loop, what keys you’ll press?\n"
   ]
  },
  {
   "cell_type": "raw",
   "id": "2379b6b1",
   "metadata": {},
   "source": [
    "Ctrl + C"
   ]
  },
  {
   "cell_type": "markdown",
   "id": "58ea4068",
   "metadata": {},
   "source": [
    "####  How can you tell the difference between break and continue?\n"
   ]
  },
  {
   "cell_type": "raw",
   "id": "cefaced0",
   "metadata": {},
   "source": [
    "break statement:\n",
    "\n",
    "The break statement is used to immediately terminate the innermost loop (such as a for or while loop) and exit the loop entirely.\n",
    "When the break statement is encountered, the program execution will continue with the next statement after the loop.\n",
    "It is commonly used to stop the execution of a loop prematurely based on a certain condition."
   ]
  },
  {
   "cell_type": "code",
   "execution_count": 13,
   "id": "70e0edda",
   "metadata": {
    "ExecuteTime": {
     "end_time": "2023-05-25T14:00:49.013588Z",
     "start_time": "2023-05-25T14:00:48.993525Z"
    }
   },
   "outputs": [
    {
     "name": "stdout",
     "output_type": "stream",
     "text": [
      "1\n",
      "2\n"
     ]
    }
   ],
   "source": [
    "for i in range(1, 6):\n",
    "    if i == 3:\n",
    "        break\n",
    "    print(i)\n"
   ]
  },
  {
   "cell_type": "raw",
   "id": "f0bf6f57",
   "metadata": {},
   "source": [
    "continue statement:\n",
    "\n",
    "The continue statement is used to skip the rest of the current iteration of a loop and move on to the next iteration.\n",
    "When the continue statement is encountered, the program execution jumps directly to the loop's next iteration, bypassing the remaining statements within the loop body for the current iteration.\n",
    "It is commonly used to skip certain iterations of a loop based on a certain condition without terminating the loop entirely."
   ]
  },
  {
   "cell_type": "code",
   "execution_count": 14,
   "id": "2d0a2f03",
   "metadata": {
    "ExecuteTime": {
     "end_time": "2023-05-25T14:01:08.398494Z",
     "start_time": "2023-05-25T14:01:08.388440Z"
    }
   },
   "outputs": [
    {
     "name": "stdout",
     "output_type": "stream",
     "text": [
      "1\n",
      "2\n",
      "4\n",
      "5\n"
     ]
    }
   ],
   "source": [
    "for i in range(1, 6):\n",
    "    if i == 3:\n",
    "        continue\n",
    "    print(i)\n"
   ]
  },
  {
   "cell_type": "markdown",
   "id": "b6c88494",
   "metadata": {},
   "source": [
    "#### In a for loop, what is the difference between range(10), range(0, 10), and range(0, 10, 1)?\n"
   ]
  },
  {
   "cell_type": "raw",
   "id": "3016de84",
   "metadata": {},
   "source": [
    "range(10):\n",
    "\n",
    "This expression represents a range that starts from 0 (default start value) and ends at 10 (exclusive) with a step size of 1 (default step size).\n",
    "It generates a sequence of integers from 0 to 9 (10 numbers in total), incrementing by 1 in each iteration of the loop.\n",
    "The syntax range(stop) specifies only the stop value, while the start value defaults to 0 and the step size defaults to 1.\n",
    "\n",
    "\n",
    "range(0, 10):\n",
    "\n",
    "This expression represents a range that starts from 0 and ends at 10 (exclusive) with a step size of 1 (default step size).\n",
    "It generates a sequence of integers from 0 to 9 (10 numbers in total), incrementing by 1 in each iteration of the loop.\n",
    "The syntax range(start, stop) specifies both the start and stop values, while the step size defaults to 1.\n",
    "\n",
    "\n",
    "range(0, 10, 1):\n",
    "\n",
    "This expression represents a range that starts from 0 and ends at 10 (exclusive) with a step size of 1.\n",
    "It generates a sequence of integers from 0 to 9 (10 numbers in total), incrementing by 1 in each iteration of the loop.\n",
    "The syntax range(start, stop, step) specifies both the start and stop values, as well as the step size."
   ]
  },
  {
   "cell_type": "markdown",
   "id": "2fef6c5a",
   "metadata": {},
   "source": [
    "####  Write a short program that prints the numbers 1 to 10 using a for loop. Then write an equivalent program that prints the numbers 1 to 10 using a while loop.\n"
   ]
  },
  {
   "cell_type": "code",
   "execution_count": 15,
   "id": "1df3e713",
   "metadata": {
    "ExecuteTime": {
     "end_time": "2023-05-25T14:03:11.458922Z",
     "start_time": "2023-05-25T14:03:11.451857Z"
    }
   },
   "outputs": [
    {
     "name": "stdout",
     "output_type": "stream",
     "text": [
      "1\n",
      "2\n",
      "3\n",
      "4\n",
      "5\n",
      "6\n",
      "7\n",
      "8\n",
      "9\n",
      "10\n"
     ]
    }
   ],
   "source": [
    "# Using a for loop\n",
    "for num in range(1, 11):\n",
    "    print(num)\n"
   ]
  },
  {
   "cell_type": "markdown",
   "id": "93c0cec0",
   "metadata": {},
   "source": [
    "#### If you had a function named bacon() inside a module named spam, how would you call it after importing spam?"
   ]
  },
  {
   "cell_type": "code",
   "execution_count": 16,
   "id": "4a7006c3",
   "metadata": {
    "ExecuteTime": {
     "end_time": "2023-05-25T14:03:28.127865Z",
     "start_time": "2023-05-25T14:03:27.594456Z"
    }
   },
   "outputs": [
    {
     "ename": "ModuleNotFoundError",
     "evalue": "No module named 'spam'",
     "output_type": "error",
     "traceback": [
      "\u001b[1;31m---------------------------------------------------------------------------\u001b[0m",
      "\u001b[1;31mModuleNotFoundError\u001b[0m                       Traceback (most recent call last)",
      "\u001b[1;32m~\\AppData\\Local\\Temp/ipykernel_16572/3086571347.py\u001b[0m in \u001b[0;36m<module>\u001b[1;34m\u001b[0m\n\u001b[1;32m----> 1\u001b[1;33m \u001b[1;32mimport\u001b[0m \u001b[0mspam\u001b[0m\u001b[1;33m\u001b[0m\u001b[1;33m\u001b[0m\u001b[0m\n\u001b[0m\u001b[0;32m      2\u001b[0m \u001b[1;33m\u001b[0m\u001b[0m\n\u001b[0;32m      3\u001b[0m \u001b[0mspam\u001b[0m\u001b[1;33m.\u001b[0m\u001b[0mbacon\u001b[0m\u001b[1;33m(\u001b[0m\u001b[1;33m)\u001b[0m\u001b[1;33m\u001b[0m\u001b[1;33m\u001b[0m\u001b[0m\n",
      "\u001b[1;31mModuleNotFoundError\u001b[0m: No module named 'spam'"
     ]
    }
   ],
   "source": [
    "import spam\n",
    "\n",
    "spam.bacon()"
   ]
  },
  {
   "cell_type": "code",
   "execution_count": null,
   "id": "fd7fecd0",
   "metadata": {},
   "outputs": [],
   "source": []
  }
 ],
 "metadata": {
  "hide_input": false,
  "kernelspec": {
   "display_name": "Python 3 (ipykernel)",
   "language": "python",
   "name": "python3"
  },
  "language_info": {
   "codemirror_mode": {
    "name": "ipython",
    "version": 3
   },
   "file_extension": ".py",
   "mimetype": "text/x-python",
   "name": "python",
   "nbconvert_exporter": "python",
   "pygments_lexer": "ipython3",
   "version": "3.8.8"
  },
  "toc": {
   "base_numbering": 1,
   "nav_menu": {},
   "number_sections": true,
   "sideBar": true,
   "skip_h1_title": false,
   "title_cell": "Table of Contents",
   "title_sidebar": "Contents",
   "toc_cell": false,
   "toc_position": {},
   "toc_section_display": true,
   "toc_window_display": false
  },
  "varInspector": {
   "cols": {
    "lenName": 16,
    "lenType": 16,
    "lenVar": 40
   },
   "kernels_config": {
    "python": {
     "delete_cmd_postfix": "",
     "delete_cmd_prefix": "del ",
     "library": "var_list.py",
     "varRefreshCmd": "print(var_dic_list())"
    },
    "r": {
     "delete_cmd_postfix": ") ",
     "delete_cmd_prefix": "rm(",
     "library": "var_list.r",
     "varRefreshCmd": "cat(var_dic_list()) "
    }
   },
   "types_to_exclude": [
    "module",
    "function",
    "builtin_function_or_method",
    "instance",
    "_Feature"
   ],
   "window_display": false
  }
 },
 "nbformat": 4,
 "nbformat_minor": 5
}
