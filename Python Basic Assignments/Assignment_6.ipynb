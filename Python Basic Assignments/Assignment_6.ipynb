{
 "cells": [
  {
   "cell_type": "markdown",
   "id": "4a2e5900",
   "metadata": {},
   "source": [
    "#### What are keywords in python? Using the keyword library, print all the python keywords.\n"
   ]
  },
  {
   "cell_type": "markdown",
   "id": "d4420cc4",
   "metadata": {},
   "source": [
    "Keywords in Python are reserved words that have special meanings and purposes in the language. These keywords cannot be used as variable names or identifiers because they are part of the Python syntax."
   ]
  },
  {
   "cell_type": "code",
   "execution_count": 2,
   "id": "4c19d242",
   "metadata": {
    "ExecuteTime": {
     "end_time": "2023-06-01T11:13:31.393711Z",
     "start_time": "2023-06-01T11:13:31.381469Z"
    }
   },
   "outputs": [
    {
     "name": "stdout",
     "output_type": "stream",
     "text": [
      "['False', 'None', 'True', 'and', 'as', 'assert', 'async', 'await', 'break', 'class', 'continue', 'def', 'del', 'elif', 'else', 'except', 'finally', 'for', 'from', 'global', 'if', 'import', 'in', 'is', 'lambda', 'nonlocal', 'not', 'or', 'pass', 'raise', 'return', 'try', 'while', 'with', 'yield']\n"
     ]
    }
   ],
   "source": [
    "import keyword\n",
    "\n",
    "all_keywords = keyword.kwlist\n",
    "print(all_keywords)"
   ]
  },
  {
   "cell_type": "markdown",
   "id": "1704f65d",
   "metadata": {},
   "source": [
    "#### What are the rules to create variables in python?\n"
   ]
  },
  {
   "cell_type": "markdown",
   "id": "1bd8bbb7",
   "metadata": {},
   "source": [
    "Variable names must start with a letter (a-z, A-Z) or an underscore (_). They cannot start with a digit (0-9).\n",
    "\n",
    "Variable names can contain letters, digits, and underscores. They are case-sensitive, meaning myVariable and myvariable would be treated as different variables.\n",
    "\n",
    "Variable names should be descriptive and meaningful, indicating the purpose or content of the variable. It is recommended to use lowercase letters and underscores to improve readability.\n",
    "\n",
    "Avoid using reserved keywords as variable names. Python has a set of reserved keywords that have special meanings in the language and cannot be used as variable names. Examples of reserved keywords include if, while, for, def, class, return, and so on.\n",
    "\n",
    "Variables should be named according to the purpose they serve. For example, if a variable is used to store a person's age, a suitable name would be age.\n",
    "\n",
    "Python follows a naming convention called \"snake_case\" for variables, where words are separated by underscores. For example: first_name, total_amount, is_valid, etc.\n",
    "\n",
    "Try to make variable names self-explanatory and avoid using single-letter names unless they have a clear meaning in the context."
   ]
  },
  {
   "cell_type": "markdown",
   "id": "e4b8bf60",
   "metadata": {},
   "source": [
    "#### What are the standards and conventions followed for the nomenclature of variables in python to improve code readability and maintainability?\n"
   ]
  },
  {
   "cell_type": "markdown",
   "id": "9221cdb8",
   "metadata": {},
   "source": [
    "Use descriptive and meaningful names: Choose variable names that accurately represent the purpose or content of the variable. This helps in understanding the code and makes it more readable.\n",
    "\n",
    "Use lowercase letters and underscores: Variable names should be in lowercase letters with words separated by underscores. This convention is known as \"snake_case.\" For example: my_variable, total_amount, is_valid.\n",
    "\n",
    "Avoid single-letter variable names: Unless they have a clear and widely understood meaning in the domain or context, it's generally recommended to avoid single-letter variable names like x, y, z. Instead, opt for more descriptive names.\n",
    "\n",
    "Be consistent with naming styles: Maintain consistency in variable naming throughout your codebase. If you have variables like total_amount and is_valid, stick to the same style for similar concepts.\n",
    "\n",
    "Avoid using reserved keywords: Do not use Python reserved keywords as variable names. Reserved keywords are words that have predefined meanings in the Python language. Examples include if, while, for, def, class, return, and so on.\n",
    "\n",
    "Use meaningful abbreviations: If you need to use abbreviations in variable names, ensure they are widely recognized and make the code more readable. Avoid using obscure or cryptic abbreviations.\n",
    "\n",
    "Use uppercase for constants: If a variable is intended to be treated as a constant (a value that should not be modified), use uppercase letters with underscores to separate words. For example: MAX_VALUE, PI."
   ]
  },
  {
   "cell_type": "markdown",
   "id": "ae5bb4cd",
   "metadata": {},
   "source": [
    "#### What will happen if a keyword is used as a variable name?\n"
   ]
  },
  {
   "cell_type": "raw",
   "id": "c59df328",
   "metadata": {},
   "source": [
    "When a keyword is used as a variable name, Python's interpreter will raise a SyntaxError and indicate that the keyword cannot be used as an identifier. This error prevents the code from executing until the issue is resolved."
   ]
  },
  {
   "cell_type": "markdown",
   "id": "2a820777",
   "metadata": {},
   "source": [
    "#### For what purpose def keyword is used?\n"
   ]
  },
  {
   "cell_type": "raw",
   "id": "cfce8bf2",
   "metadata": {},
   "source": [
    "The def keyword marks the beginning of a function definition. When this keyword is used, it tells Python that you are creating a function with a specific name. The function name should follow the rules for variable naming in Python."
   ]
  },
  {
   "cell_type": "code",
   "execution_count": 3,
   "id": "fba9073c",
   "metadata": {
    "ExecuteTime": {
     "end_time": "2023-06-01T11:17:21.423509Z",
     "start_time": "2023-06-01T11:17:21.405031Z"
    }
   },
   "outputs": [
    {
     "name": "stdout",
     "output_type": "stream",
     "text": [
      "Hello, World!\n"
     ]
    }
   ],
   "source": [
    "def greet():\n",
    "    print(\"Hello, World!\")\n",
    "\n",
    "# Calling the function\n",
    "greet()\n"
   ]
  },
  {
   "cell_type": "markdown",
   "id": "ed0929ce",
   "metadata": {},
   "source": [
    "#### What is the operation of this special character ‘\\’?\n"
   ]
  },
  {
   "cell_type": "raw",
   "id": "a5f2b79b",
   "metadata": {},
   "source": [
    "The special character \\ in Python is known as the backslash. It is used as an escape character to indicate that the character following it has a special meaning. It is used in combination with certain characters to represent special characters, control characters, or Unicode characters in string literals."
   ]
  },
  {
   "cell_type": "code",
   "execution_count": 4,
   "id": "41a573ca",
   "metadata": {
    "ExecuteTime": {
     "end_time": "2023-06-01T11:18:54.476358Z",
     "start_time": "2023-06-01T11:18:54.458335Z"
    }
   },
   "outputs": [
    {
     "name": "stdout",
     "output_type": "stream",
     "text": [
      "This is a newline\n",
      "This is a tab\tThis is a backslash\\\n",
      "This is a Unicode character: Ω\n",
      "This is a line that continues on the next line using a backslash\n"
     ]
    }
   ],
   "source": [
    "print(\"This is a newline\\nThis is a tab\\tThis is a backslash\\\\\")\n",
    "print(\"This is a Unicode character: \\u03A9\")\n",
    "print(\"This is a line that continues \\\n",
    "on the next line using a backslash\")\n"
   ]
  },
  {
   "cell_type": "markdown",
   "id": "be9c4ed4",
   "metadata": {},
   "source": [
    "#### Give an example of the following conditions:\n",
    "(i) Homogeneous list\n",
    "(ii) Heterogeneous set\n",
    "(iii) Homogeneous tuple\n"
   ]
  },
  {
   "cell_type": "raw",
   "id": "86037de8",
   "metadata": {},
   "source": [
    "\n",
    "Homogeneous list: \n",
    "\n",
    "A homogeneous list contains elements of the same data type. In Python, lists can hold elements of different data types, but a homogeneous list contains elements of the same data type. \n",
    "\n"
   ]
  },
  {
   "cell_type": "code",
   "execution_count": 5,
   "id": "296b41e4",
   "metadata": {
    "ExecuteTime": {
     "end_time": "2023-06-01T11:20:43.768384Z",
     "start_time": "2023-06-01T11:20:43.758238Z"
    }
   },
   "outputs": [],
   "source": [
    "\n",
    "numbers = [1, 2, 3, 4, 5]\n",
    "\n",
    "\n"
   ]
  },
  {
   "cell_type": "raw",
   "id": "2bcc2403",
   "metadata": {},
   "source": [
    "In this example, the list `numbers` contains integers only. Each element in the list has the same data type, which is integer."
   ]
  },
  {
   "cell_type": "raw",
   "id": "ce00d5da",
   "metadata": {},
   "source": [
    "\n",
    "\n",
    "Heterogeneous set: \n",
    "\n",
    "A heterogeneous set can contain elements of different data types. In Python, sets are unordered collections of unique elements. Here's an example of a heterogeneous set:\n",
    "\n"
   ]
  },
  {
   "cell_type": "code",
   "execution_count": 6,
   "id": "4e5eb4e5",
   "metadata": {
    "ExecuteTime": {
     "end_time": "2023-06-01T11:22:11.607577Z",
     "start_time": "2023-06-01T11:22:11.596097Z"
    }
   },
   "outputs": [],
   "source": [
    "\n",
    "data_set = {1, 'hello', 3.14, True}\n",
    "\n",
    "\n"
   ]
  },
  {
   "cell_type": "raw",
   "id": "e710a197",
   "metadata": {},
   "source": [
    "In this example, the set `data_set` contains elements of different data types: an integer (`1`), a string (`'hello'`), a floating-point number (`3.14`), and a boolean value (`True`).\n",
    "\n"
   ]
  },
  {
   "cell_type": "raw",
   "id": "b0c00d2e",
   "metadata": {},
   "source": [
    "Homogeneous tuple: \n",
    "\n",
    "Similar to a homogeneous list, a homogeneous tuple contains elements of the same data type. Tuples are ordered collections, and they can hold elements of different data types. However, a homogeneous tuple contains elements of the same data type. \n"
   ]
  },
  {
   "cell_type": "code",
   "execution_count": 7,
   "id": "cebaa9fa",
   "metadata": {
    "ExecuteTime": {
     "end_time": "2023-06-01T11:23:29.557138Z",
     "start_time": "2023-06-01T11:23:29.548220Z"
    }
   },
   "outputs": [],
   "source": [
    "names = ('Alice', 'Bob', 'Charlie', 'David')\n",
    "\n"
   ]
  },
  {
   "cell_type": "raw",
   "id": "a088e0ed",
   "metadata": {},
   "source": [
    "In this example, the tuple `names` contains strings only. Each element in the tuple has the same data type, which is a string."
   ]
  },
  {
   "cell_type": "markdown",
   "id": "83b4acb7",
   "metadata": {},
   "source": [
    "#### Explain the mutable and immutable data types with proper explanation & examples.\n"
   ]
  },
  {
   "cell_type": "raw",
   "id": "2705d564",
   "metadata": {},
   "source": [
    "The key difference between mutable and immutable data types is that mutable objects can be modified in place, while immutable objects cannot. Immutable objects are safer to use in certain scenarios where you want to ensure the integrity of data and avoid unintended modifications. However, mutable objects provide more flexibility when you need to modify their contents. It's important to understand the mutability of different data types to handle them appropriately in your programs."
   ]
  },
  {
   "cell_type": "code",
   "execution_count": 8,
   "id": "94a3d145",
   "metadata": {
    "ExecuteTime": {
     "end_time": "2023-06-01T11:24:48.437198Z",
     "start_time": "2023-06-01T11:24:48.429633Z"
    }
   },
   "outputs": [
    {
     "name": "stdout",
     "output_type": "stream",
     "text": [
      "[4, 2, 3]\n"
     ]
    }
   ],
   "source": [
    "# Mutable data type - List\n",
    "my_list = [1, 2, 3]\n",
    "my_list[0] = 4\n",
    "print(my_list)  # Output: [4, 2, 3]\n"
   ]
  },
  {
   "cell_type": "code",
   "execution_count": 9,
   "id": "7aa2fdf5",
   "metadata": {
    "ExecuteTime": {
     "end_time": "2023-06-01T11:24:56.995880Z",
     "start_time": "2023-06-01T11:24:56.981217Z"
    }
   },
   "outputs": [
    {
     "name": "stdout",
     "output_type": "stream",
     "text": [
      "Hello World\n",
      "Hello\n"
     ]
    }
   ],
   "source": [
    "# Immutable data type - String\n",
    "my_string = \"Hello\"\n",
    "modified_string = my_string + \" World\"\n",
    "print(modified_string)  # Output: Hello World\n",
    "print(my_string)  # Output: Hello\n"
   ]
  },
  {
   "cell_type": "markdown",
   "id": "aad85b3b",
   "metadata": {},
   "source": [
    "#### Write a code to create the given structure using only for loop.\n",
    "    \n",
    "\n"
   ]
  },
  {
   "cell_type": "raw",
   "id": "f015e556",
   "metadata": {},
   "source": [
    "    \n",
    "    *\n",
    "   ***\n",
    "  *****\n",
    " *******\n",
    "*********"
   ]
  },
  {
   "cell_type": "code",
   "execution_count": 10,
   "id": "faf9bd9e",
   "metadata": {
    "ExecuteTime": {
     "end_time": "2023-06-01T11:25:52.017077Z",
     "start_time": "2023-06-01T11:25:51.994547Z"
    }
   },
   "outputs": [
    {
     "name": "stdout",
     "output_type": "stream",
     "text": [
      "    *\n",
      "   ***\n",
      "  *****\n",
      " *******\n",
      "*********\n"
     ]
    }
   ],
   "source": [
    "rows = 5  # Number of rows in the structure\n",
    "\n",
    "for i in range(rows):\n",
    "    for j in range(rows - i - 1):\n",
    "        print(\" \", end=\"\")\n",
    "    for j in range(2 * i + 1):\n",
    "        print(\"*\", end=\"\")\n",
    "    print()"
   ]
  },
  {
   "cell_type": "markdown",
   "id": "383ab2f3",
   "metadata": {
    "ExecuteTime": {
     "end_time": "2023-06-01T11:12:18.987896Z",
     "start_time": "2023-06-01T11:12:18.970717Z"
    }
   },
   "source": [
    "#### Write a code to create the given structure using while loop.\n"
   ]
  },
  {
   "cell_type": "raw",
   "id": "beb433a2",
   "metadata": {},
   "source": [
    "   |||||||||\n",
    "\t|||||||\n",
    "     |||||\n",
    "      |||\n",
    "       |"
   ]
  },
  {
   "cell_type": "code",
   "execution_count": 13,
   "id": "10bbfb11",
   "metadata": {
    "ExecuteTime": {
     "end_time": "2023-06-01T11:29:35.113547Z",
     "start_time": "2023-06-01T11:29:35.106096Z"
    }
   },
   "outputs": [
    {
     "name": "stdout",
     "output_type": "stream",
     "text": [
      "|||||||||\n",
      " |||||||\n",
      "  |||||\n",
      "   |||\n",
      "    |\n"
     ]
    }
   ],
   "source": [
    "rows = 5  # Number of rows in the inverted pyramid\n",
    "row = rows\n",
    "\n",
    "while row >= 1:\n",
    "    spaces = rows - row\n",
    "    pipes = 2 * row - 1\n",
    "\n",
    "    print(\" \" * spaces, end=\"\")\n",
    "    print(\"|\" * pipes)\n",
    "\n",
    "    row -= 1\n"
   ]
  },
  {
   "cell_type": "code",
   "execution_count": null,
   "id": "e5af16f7",
   "metadata": {},
   "outputs": [],
   "source": []
  }
 ],
 "metadata": {
  "hide_input": false,
  "kernelspec": {
   "display_name": "Python 3 (ipykernel)",
   "language": "python",
   "name": "python3"
  },
  "language_info": {
   "codemirror_mode": {
    "name": "ipython",
    "version": 3
   },
   "file_extension": ".py",
   "mimetype": "text/x-python",
   "name": "python",
   "nbconvert_exporter": "python",
   "pygments_lexer": "ipython3",
   "version": "3.8.8"
  },
  "toc": {
   "base_numbering": 1,
   "nav_menu": {},
   "number_sections": true,
   "sideBar": true,
   "skip_h1_title": false,
   "title_cell": "Table of Contents",
   "title_sidebar": "Contents",
   "toc_cell": false,
   "toc_position": {},
   "toc_section_display": true,
   "toc_window_display": false
  },
  "varInspector": {
   "cols": {
    "lenName": 16,
    "lenType": 16,
    "lenVar": 40
   },
   "kernels_config": {
    "python": {
     "delete_cmd_postfix": "",
     "delete_cmd_prefix": "del ",
     "library": "var_list.py",
     "varRefreshCmd": "print(var_dic_list())"
    },
    "r": {
     "delete_cmd_postfix": ") ",
     "delete_cmd_prefix": "rm(",
     "library": "var_list.r",
     "varRefreshCmd": "cat(var_dic_list()) "
    }
   },
   "types_to_exclude": [
    "module",
    "function",
    "builtin_function_or_method",
    "instance",
    "_Feature"
   ],
   "window_display": false
  }
 },
 "nbformat": 4,
 "nbformat_minor": 5
}
