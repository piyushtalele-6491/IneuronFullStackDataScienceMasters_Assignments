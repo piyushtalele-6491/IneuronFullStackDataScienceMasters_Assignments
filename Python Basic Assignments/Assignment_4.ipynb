{
 "cells": [
  {
   "cell_type": "markdown",
   "id": "8188bc3b",
   "metadata": {},
   "source": [
    "#### What exactly is []?\n",
    "\n"
   ]
  },
  {
   "cell_type": "raw",
   "id": "e03d2007",
   "metadata": {},
   "source": [
    "[] represents an empty list. A list is a data structure that can hold an ordered collection of items, and [] denotes the absence of any items in the list.\n",
    "\n",
    "1. [] creates a new empty list.\n",
    "2. An empty list has a length of 0, meaning it does not contain any elements.\n",
    "3. You can assign an empty list to a variable like this: my_list = [].\n",
    "4. You can use the list() constructor to create an empty list: my_list = list().\n",
    "5. An empty list can be used as a placeholder when you need a list structure but don't have any items to include at the   moment.\n",
    "6. You can add elements to an empty list using various list manipulation methods such as append(), extend(), or by directly assigning values to specific indices."
   ]
  },
  {
   "cell_type": "code",
   "execution_count": 1,
   "id": "5b8dfe61",
   "metadata": {
    "ExecuteTime": {
     "end_time": "2023-06-01T08:43:07.936815Z",
     "start_time": "2023-06-01T08:43:07.913743Z"
    }
   },
   "outputs": [
    {
     "name": "stdout",
     "output_type": "stream",
     "text": [
      "[]\n",
      "0\n",
      "[42]\n",
      "1\n"
     ]
    }
   ],
   "source": [
    "my_list = []  # Creating an empty list\n",
    "\n",
    "print(my_list)       # Output: []\n",
    "print(len(my_list))  # Output: 0\n",
    "\n",
    "my_list.append(42)   # Adding an element to the list\n",
    "print(my_list)       # Output: [42]\n",
    "print(len(my_list))  # Output: 1\n"
   ]
  },
  {
   "cell_type": "markdown",
   "id": "69cec62b",
   "metadata": {},
   "source": [
    "#### In a list of values stored in a variable called spam, how would you assign the value 'hello' as the third value? (Assume [2, 4, 6, 8, 10] are in spam.)\n",
    "\n"
   ]
  },
  {
   "cell_type": "code",
   "execution_count": 2,
   "id": "b733969c",
   "metadata": {
    "ExecuteTime": {
     "end_time": "2023-06-01T10:15:22.860212Z",
     "start_time": "2023-06-01T10:15:22.808367Z"
    }
   },
   "outputs": [
    {
     "name": "stdout",
     "output_type": "stream",
     "text": [
      "[2, 4, 'hello', 8, 10]\n"
     ]
    }
   ],
   "source": [
    "spam = [2, 4, 6, 8, 10]  # Original list\n",
    "spam[2] = 'hello'       # Assigning 'hello' to the third value\n",
    "\n",
    "print(spam)\n"
   ]
  },
  {
   "cell_type": "markdown",
   "id": "6a07766b",
   "metadata": {},
   "source": [
    "#### Let's pretend the spam includes the list ['a', 'b', 'c', 'd'] for the next three queries.\n"
   ]
  },
  {
   "cell_type": "code",
   "execution_count": 4,
   "id": "3741fe73",
   "metadata": {
    "ExecuteTime": {
     "end_time": "2023-06-01T10:17:44.113093Z",
     "start_time": "2023-06-01T10:17:44.096889Z"
    }
   },
   "outputs": [],
   "source": [
    "spam =  ['a', 'b', 'c', 'd']"
   ]
  },
  {
   "cell_type": "markdown",
   "id": "c93c69ef",
   "metadata": {},
   "source": [
    "#### What is the value of spam[int(int('3' * 2) / 11)]?\n"
   ]
  },
  {
   "cell_type": "code",
   "execution_count": 5,
   "id": "5f5d4db5",
   "metadata": {
    "ExecuteTime": {
     "end_time": "2023-06-01T10:17:45.922823Z",
     "start_time": "2023-06-01T10:17:45.901724Z"
    }
   },
   "outputs": [
    {
     "data": {
      "text/plain": [
       "'d'"
      ]
     },
     "execution_count": 5,
     "metadata": {},
     "output_type": "execute_result"
    }
   ],
   "source": [
    "spam[int(int('3' * 2) / 11)]"
   ]
  },
  {
   "cell_type": "markdown",
   "id": "8b8ac657",
   "metadata": {},
   "source": [
    "#### What is the value of spam[-1]?\n"
   ]
  },
  {
   "cell_type": "code",
   "execution_count": 6,
   "id": "bb00afd9",
   "metadata": {
    "ExecuteTime": {
     "end_time": "2023-06-01T10:17:59.980136Z",
     "start_time": "2023-06-01T10:17:59.957489Z"
    }
   },
   "outputs": [
    {
     "data": {
      "text/plain": [
       "'d'"
      ]
     },
     "execution_count": 6,
     "metadata": {},
     "output_type": "execute_result"
    }
   ],
   "source": [
    "spam[-1]"
   ]
  },
  {
   "cell_type": "markdown",
   "id": "c90b0121",
   "metadata": {},
   "source": [
    "#### What is the value of spam[:2]?\n"
   ]
  },
  {
   "cell_type": "code",
   "execution_count": 7,
   "id": "0490cac0",
   "metadata": {
    "ExecuteTime": {
     "end_time": "2023-06-01T10:18:17.111942Z",
     "start_time": "2023-06-01T10:18:17.086150Z"
    }
   },
   "outputs": [
    {
     "data": {
      "text/plain": [
       "['a', 'b']"
      ]
     },
     "execution_count": 7,
     "metadata": {},
     "output_type": "execute_result"
    }
   ],
   "source": [
    "spam[:2]"
   ]
  },
  {
   "cell_type": "markdown",
   "id": "0def0c18",
   "metadata": {},
   "source": [
    "#### Let's pretend bacon has the list [3.14, 'cat,' 11, 'cat,' True] for the next three questions.\n"
   ]
  },
  {
   "cell_type": "code",
   "execution_count": 10,
   "id": "8333d8e6",
   "metadata": {
    "ExecuteTime": {
     "end_time": "2023-06-01T10:19:00.697858Z",
     "start_time": "2023-06-01T10:19:00.680820Z"
    }
   },
   "outputs": [],
   "source": [
    "bacon = [3.14, 'cat', 11, 'cat', True]"
   ]
  },
  {
   "cell_type": "markdown",
   "id": "d850da47",
   "metadata": {},
   "source": [
    "#### What is the value of bacon.index('cat')?\n"
   ]
  },
  {
   "cell_type": "code",
   "execution_count": 11,
   "id": "6c59e87b",
   "metadata": {
    "ExecuteTime": {
     "end_time": "2023-06-01T10:19:17.668626Z",
     "start_time": "2023-06-01T10:19:17.656516Z"
    }
   },
   "outputs": [
    {
     "data": {
      "text/plain": [
       "1"
      ]
     },
     "execution_count": 11,
     "metadata": {},
     "output_type": "execute_result"
    }
   ],
   "source": [
    "bacon.index('cat')"
   ]
  },
  {
   "cell_type": "markdown",
   "id": "7947b7b8",
   "metadata": {},
   "source": [
    "#### How does bacon.append(99) change the look of the list value in bacon?\n"
   ]
  },
  {
   "cell_type": "code",
   "execution_count": 12,
   "id": "124aaeba",
   "metadata": {
    "ExecuteTime": {
     "end_time": "2023-06-01T10:19:37.988880Z",
     "start_time": "2023-06-01T10:19:37.966793Z"
    }
   },
   "outputs": [],
   "source": [
    "bacon.append(99)"
   ]
  },
  {
   "cell_type": "code",
   "execution_count": 13,
   "id": "0629e7cf",
   "metadata": {
    "ExecuteTime": {
     "end_time": "2023-06-01T10:19:47.255942Z",
     "start_time": "2023-06-01T10:19:47.222871Z"
    }
   },
   "outputs": [
    {
     "data": {
      "text/plain": [
       "[3.14, 'cat', 11, 'cat', True, 99]"
      ]
     },
     "execution_count": 13,
     "metadata": {},
     "output_type": "execute_result"
    }
   ],
   "source": [
    "bacon"
   ]
  },
  {
   "cell_type": "markdown",
   "id": "8f4fb4d6",
   "metadata": {},
   "source": [
    "#### How does bacon.remove('cat') change the look of the list in bacon?\n"
   ]
  },
  {
   "cell_type": "code",
   "execution_count": 14,
   "id": "1a5125f5",
   "metadata": {
    "ExecuteTime": {
     "end_time": "2023-06-01T10:19:57.371860Z",
     "start_time": "2023-06-01T10:19:57.353007Z"
    }
   },
   "outputs": [],
   "source": [
    "bacon.remove('cat')"
   ]
  },
  {
   "cell_type": "code",
   "execution_count": 15,
   "id": "e53a9b04",
   "metadata": {
    "ExecuteTime": {
     "end_time": "2023-06-01T10:20:03.524373Z",
     "start_time": "2023-06-01T10:20:03.496979Z"
    }
   },
   "outputs": [
    {
     "data": {
      "text/plain": [
       "[3.14, 11, 'cat', True, 99]"
      ]
     },
     "execution_count": 15,
     "metadata": {},
     "output_type": "execute_result"
    }
   ],
   "source": [
    "bacon"
   ]
  },
  {
   "cell_type": "markdown",
   "id": "f2efd49f",
   "metadata": {},
   "source": [
    "#### What are the list concatenation and list replication operators?\n"
   ]
  },
  {
   "cell_type": "raw",
   "id": "a5765889",
   "metadata": {},
   "source": [
    "List concatenation operator is +, and the list replication operator is *"
   ]
  },
  {
   "cell_type": "code",
   "execution_count": 16,
   "id": "eed4026b",
   "metadata": {
    "ExecuteTime": {
     "end_time": "2023-06-01T10:21:26.331105Z",
     "start_time": "2023-06-01T10:21:26.320430Z"
    }
   },
   "outputs": [
    {
     "name": "stdout",
     "output_type": "stream",
     "text": [
      "[1, 2, 3, 4, 5, 6]\n"
     ]
    }
   ],
   "source": [
    "list1 = [1, 2, 3]\n",
    "list2 = [4, 5, 6]\n",
    "result = list1 + list2\n",
    "print(result)\n"
   ]
  },
  {
   "cell_type": "code",
   "execution_count": 17,
   "id": "c5fafe60",
   "metadata": {
    "ExecuteTime": {
     "end_time": "2023-06-01T10:21:36.208457Z",
     "start_time": "2023-06-01T10:21:36.194419Z"
    }
   },
   "outputs": [
    {
     "name": "stdout",
     "output_type": "stream",
     "text": [
      "[1, 2, 3, 1, 2, 3, 1, 2, 3]\n"
     ]
    }
   ],
   "source": [
    "original_list = [1, 2, 3]\n",
    "replicated_list = original_list * 3\n",
    "print(replicated_list)\n"
   ]
  },
  {
   "cell_type": "markdown",
   "id": "516209b9",
   "metadata": {
    "run_control": {
     "marked": false
    }
   },
   "source": [
    "####  What is difference between the list methods append() and insert()?\n"
   ]
  },
  {
   "cell_type": "raw",
   "id": "e4cda8d6",
   "metadata": {},
   "source": [
    "The append() method adds an element to the end of a list, while the insert() method allows you to specify the position where the element should be inserted."
   ]
  },
  {
   "cell_type": "code",
   "execution_count": 18,
   "id": "4eaf002c",
   "metadata": {
    "ExecuteTime": {
     "end_time": "2023-06-01T10:22:23.538879Z",
     "start_time": "2023-06-01T10:22:23.520590Z"
    }
   },
   "outputs": [
    {
     "name": "stdout",
     "output_type": "stream",
     "text": [
      "[1, 2, 3, 4]\n"
     ]
    }
   ],
   "source": [
    "my_list = [1, 2, 3]\n",
    "my_list.append(4)\n",
    "print(my_list)\n"
   ]
  },
  {
   "cell_type": "code",
   "execution_count": 19,
   "id": "ec8f0d59",
   "metadata": {
    "ExecuteTime": {
     "end_time": "2023-06-01T10:22:34.238132Z",
     "start_time": "2023-06-01T10:22:34.223334Z"
    }
   },
   "outputs": [
    {
     "name": "stdout",
     "output_type": "stream",
     "text": [
      "[1, 10, 2, 3]\n"
     ]
    }
   ],
   "source": [
    "my_list = [1, 2, 3]\n",
    "my_list.insert(1, 10)\n",
    "print(my_list)\n"
   ]
  },
  {
   "cell_type": "markdown",
   "id": "3a511f81",
   "metadata": {},
   "source": [
    "####  What are the two methods for removing items from a list?\n"
   ]
  },
  {
   "cell_type": "raw",
   "id": "97c71dcd",
   "metadata": {},
   "source": [
    "The remove() method removes an element based on its value, while the pop() method removes an element based on its index."
   ]
  },
  {
   "cell_type": "code",
   "execution_count": 20,
   "id": "ad2547ad",
   "metadata": {
    "ExecuteTime": {
     "end_time": "2023-06-01T10:25:06.745693Z",
     "start_time": "2023-06-01T10:25:06.729608Z"
    }
   },
   "outputs": [
    {
     "name": "stdout",
     "output_type": "stream",
     "text": [
      "[1, 2, 4, 3]\n"
     ]
    }
   ],
   "source": [
    "my_list = [1, 2, 3, 4, 3]\n",
    "my_list.remove(3)\n",
    "print(my_list)\n"
   ]
  },
  {
   "cell_type": "code",
   "execution_count": 21,
   "id": "4fa0fdcb",
   "metadata": {
    "ExecuteTime": {
     "end_time": "2023-06-01T10:25:22.393320Z",
     "start_time": "2023-06-01T10:25:22.373743Z"
    }
   },
   "outputs": [
    {
     "name": "stdout",
     "output_type": "stream",
     "text": [
      "2\n",
      "[1, 3, 4]\n"
     ]
    }
   ],
   "source": [
    "my_list = [1, 2, 3, 4]\n",
    "removed_element = my_list.pop(1)\n",
    "print(removed_element)\n",
    "print(my_list)\n"
   ]
  },
  {
   "cell_type": "markdown",
   "id": "b39d0530",
   "metadata": {},
   "source": [
    "####  Describe how list values and string values are identical.\n"
   ]
  },
  {
   "cell_type": "markdown",
   "id": "0e52f6a2",
   "metadata": {
    "ExecuteTime": {
     "end_time": "2023-06-01T10:28:05.831221Z",
     "start_time": "2023-06-01T10:28:05.349770Z"
    }
   },
   "source": [
    "<p><strong>Similarity</strong></p>\n",
    "<p>&nbsp;</p>\n",
    "<p style=\"padding-left: 40px;\"><span style=\"text-decoration: underline;\">Sequence Type:</span> Both lists and strings are sequence types in Python. They represent an ordered collection of elements where each element is assigned a specific index.</p>\n",
    "<p style=\"padding-left: 40px;\">&nbsp;</p>\n",
    "<p style=\"padding-left: 40px;\"><span style=\"text-decoration: underline;\">Indexing:</span> Both lists and strings can be accessed using indexing. You can access individual elements of a list or a string by referring to their respective index. Indexing starts from 0 for both types.</p>\n",
    "<p style=\"padding-left: 40px;\">&nbsp;</p>\n",
    "<p style=\"padding-left: 40px;\"><span style=\"text-decoration: underline;\">Slicing:</span> Both lists and strings support slicing operations. Slicing allows you to extract a portion of the sequence by specifying a range of indices.</p>\n",
    "<p style=\"padding-left: 40px;\">&nbsp;</p>\n",
    "<p style=\"padding-left: 40px;\"><span style=\"text-decoration: underline;\">Iteration:</span> You can iterate over both lists and strings using loops such as for loops. In each iteration, you can access individual elements of the list or string.</p>\n",
    "<p style=\"padding-left: 40px;\">&nbsp;</p>\n",
    "<p style=\"padding-left: 40px;\"><span style=\"text-decoration: underline;\">Length:</span> You can determine the length of both lists and strings using the built-in len() function. It returns the number of elements (characters for strings) in the sequence.</p>\n",
    "<p>&nbsp;</p>\n",
    "<p><strong>Differences</strong></p>\n",
    "<p>&nbsp;</p>\n",
    "<p style=\"padding-left: 40px;\"><span style=\"text-decoration: underline;\">Mutability:</span> Lists are mutable, meaning you can modify their elements by assigning new values or using methods like append() or remove(). On the other hand, strings are immutable, which means you cannot change their individual characters once they are created.</p>\n",
    "<p style=\"padding-left: 40px;\">&nbsp;</p>\n",
    "<p style=\"padding-left: 40px;\"><span style=\"text-decoration: underline;\">Type of Elements:</span> Lists can contain elements of different types, such as integers, strings, or even other lists. Strings, on the other hand, are sequences of characters, and each character is a string itself.</p>\n",
    "<p style=\"padding-left: 40px;\">&nbsp;</p>\n",
    "<p style=\"padding-left: 40px;\"><span style=\"text-decoration: underline;\">Operations:</span> Lists and strings have different sets of available operations and methods. For example, lists have methods like append(), remove(), and sort(), while strings have methods like upper(), lower(), and split().</p>"
   ]
  },
  {
   "cell_type": "markdown",
   "id": "bc690af0",
   "metadata": {},
   "source": [
    "####  What's the difference between tuples and lists?\n"
   ]
  },
  {
   "cell_type": "markdown",
   "id": "3286c10e",
   "metadata": {},
   "source": [
    "<p><span style=\"text-decoration: underline;\">Mutability:</span> Tuples are immutable, while lists are mutable. Once a tuple is created, its elements cannot be modified, added, or removed. In contrast, lists can be modified by changing, adding, or removing elements.</p>\n",
    "<p>&nbsp;</p>\n",
    "<p><span style=\"text-decoration: underline;\">Syntax:</span> Tuples are defined using parentheses <strong>()</strong> or without any delimiters, while lists are defined using square brackets <strong>[]</strong></p>\n",
    "<p>&nbsp;</p>\n",
    "<p><span style=\"text-decoration: underline;\">Usage:</span> Tuples are typically used to store related pieces of data together, where the order and immutability of elements are important. They are often used for representing fixed collections of items like coordinates, database records, or function arguments. Lists, on the other hand, are commonly used to store collections of items that may need to be modified or reordered.</p>\n",
    "<p>&nbsp;</p>\n",
    "<p><span style=\"text-decoration: underline;\">Performance:</span> Tuples are generally more memory-efficient and faster to access compared to lists. Since tuples are immutable, Python can optimize their storage and access. Lists, being mutable, require additional memory and operations to manage changes.</p>\n",
    "<p>&nbsp;</p>\n",
    "<p><span style=\"text-decoration: underline;\">Methods and Operations:</span> Lists have a variety of built-in methods and operations that allow dynamic modifications, such as append(), insert(), remove(), and sorting methods. Tuples have fewer methods since they are immutable, but they still provide operations like indexing, slicing, and tuple concatenation.</p>\n",
    "<p>&nbsp;</p>\n",
    "<p><span style=\"text-decoration: underline;\">Use Cases:</span> Tuples are often used in scenarios where data integrity and immutability are desired, such as representing fixed records or keys in dictionaries. Lists are suitable for scenarios where flexibility and modification of elements are needed, such as maintaining a collection of items that can be updated.</p>\n",
    "<p>&nbsp;</p>\n",
    "<p>&nbsp;</p>\n",
    "<p>&nbsp;</p>"
   ]
  },
  {
   "cell_type": "markdown",
   "id": "c6c707fd",
   "metadata": {},
   "source": [
    "####  How do you type a tuple value that only contains the integer 42?\n"
   ]
  },
  {
   "cell_type": "code",
   "execution_count": 24,
   "id": "87386b5d",
   "metadata": {
    "ExecuteTime": {
     "end_time": "2023-06-01T10:34:11.779899Z",
     "start_time": "2023-06-01T10:34:11.771561Z"
    }
   },
   "outputs": [
    {
     "name": "stdout",
     "output_type": "stream",
     "text": [
      "(42,)\n"
     ]
    }
   ],
   "source": [
    "my_tuple = (42,)\n",
    "print(my_tuple)"
   ]
  },
  {
   "cell_type": "markdown",
   "id": "35ea2f0a",
   "metadata": {},
   "source": [
    "####  How do you get a list value's tuple form? How do you get a tuple value's list form?\n"
   ]
  },
  {
   "cell_type": "code",
   "execution_count": 25,
   "id": "dfb09160",
   "metadata": {
    "ExecuteTime": {
     "end_time": "2023-06-01T10:34:36.202887Z",
     "start_time": "2023-06-01T10:34:36.195157Z"
    }
   },
   "outputs": [
    {
     "name": "stdout",
     "output_type": "stream",
     "text": [
      "(1, 2, 3, 4)\n"
     ]
    }
   ],
   "source": [
    "my_list = [1, 2, 3, 4]\n",
    "my_tuple = tuple(my_list)\n",
    "print(my_tuple)  # Output: (1, 2, 3, 4)\n"
   ]
  },
  {
   "cell_type": "code",
   "execution_count": 26,
   "id": "437428eb",
   "metadata": {
    "ExecuteTime": {
     "end_time": "2023-06-01T10:34:44.825859Z",
     "start_time": "2023-06-01T10:34:44.805003Z"
    }
   },
   "outputs": [
    {
     "name": "stdout",
     "output_type": "stream",
     "text": [
      "[1, 2, 3, 4]\n"
     ]
    }
   ],
   "source": [
    "my_tuple = (1, 2, 3, 4)\n",
    "my_list = list(my_tuple)\n",
    "print(my_list)  # Output: [1, 2, 3, 4]"
   ]
  },
  {
   "cell_type": "markdown",
   "id": "edab9e1a",
   "metadata": {},
   "source": [
    "####  Variables that \"contain\" list values are not necessarily lists themselves. Instead, what do they contain?\n"
   ]
  },
  {
   "cell_type": "raw",
   "id": "3e01ca58",
   "metadata": {},
   "source": [
    "Variables that \"contain\" list values in Python do not actually contain the list itself. Instead, they contain references to the list. In other words, the variable holds a memory address that points to the location in memory where the list is stored.\n",
    "\n",
    "In Python, variables are like labels or names that refer to objects in memory. When you assign a list to a variable, the variable does not directly hold the list's elements. It holds a reference to the memory location where the list is stored. This concept is often referred to as \"pass-by-reference\" in Python."
   ]
  },
  {
   "cell_type": "code",
   "execution_count": 27,
   "id": "70ec603b",
   "metadata": {
    "ExecuteTime": {
     "end_time": "2023-06-01T10:36:05.206361Z",
     "start_time": "2023-06-01T10:36:05.188024Z"
    }
   },
   "outputs": [],
   "source": [
    "my_list = [1, 2, 3]"
   ]
  },
  {
   "cell_type": "code",
   "execution_count": 28,
   "id": "4965e452",
   "metadata": {
    "ExecuteTime": {
     "end_time": "2023-06-01T10:36:15.236205Z",
     "start_time": "2023-06-01T10:36:15.221161Z"
    }
   },
   "outputs": [
    {
     "name": "stdout",
     "output_type": "stream",
     "text": [
      "[1, 2, 3, 4]\n"
     ]
    }
   ],
   "source": [
    "my_list = [1, 2, 3]\n",
    "another_list = my_list\n",
    "\n",
    "my_list.append(4)\n",
    "print(another_list)  # Output: [1, 2, 3, 4]"
   ]
  },
  {
   "cell_type": "raw",
   "id": "0dd6f4f3",
   "metadata": {},
   "source": [
    "Both my_list and another_list refer to the same list object. When we modify the list by appending the value 4 to my_list, the change is also visible when accessing the list through another_list."
   ]
  },
  {
   "cell_type": "markdown",
   "id": "116eae28",
   "metadata": {},
   "source": [
    "####  How do you distinguish between copy.copy() and copy.deepcopy()?"
   ]
  },
  {
   "cell_type": "markdown",
   "id": "0e4ef2a3",
   "metadata": {},
   "source": [
    "copy.copy() creates a shallow copy that references the same nested objects, while copy.deepcopy() creates a deep copy that recursively copies all nested objects. The choice between the two functions depends on whether you want independent copies that can be modified separately or complete, independent copies with no shared references."
   ]
  },
  {
   "cell_type": "code",
   "execution_count": 29,
   "id": "0a6c3b6e",
   "metadata": {
    "ExecuteTime": {
     "end_time": "2023-06-01T10:37:57.669710Z",
     "start_time": "2023-06-01T10:37:57.633896Z"
    }
   },
   "outputs": [
    {
     "name": "stdout",
     "output_type": "stream",
     "text": [
      "Original List: [1, [2, 3, 99], 4]\n",
      "Shallow Copy: [1, [2, 3, 99], 4]\n",
      "Deep Copy: [1, [2, 3], 4]\n"
     ]
    }
   ],
   "source": [
    "import copy\n",
    "\n",
    "# Original list with nested objects\n",
    "original_list = [1, [2, 3], 4]\n",
    "\n",
    "# Shallow copy using copy.copy()\n",
    "shallow_copy = copy.copy(original_list)\n",
    "\n",
    "# Deep copy using copy.deepcopy()\n",
    "deep_copy = copy.deepcopy(original_list)\n",
    "\n",
    "# Modify the nested object in the shallow copy\n",
    "shallow_copy[1].append(99)\n",
    "\n",
    "# Print the original list, shallow copy, and deep copy\n",
    "print(\"Original List:\", original_list)\n",
    "print(\"Shallow Copy:\", shallow_copy)\n",
    "print(\"Deep Copy:\", deep_copy)\n"
   ]
  },
  {
   "cell_type": "code",
   "execution_count": null,
   "id": "27e5f69a",
   "metadata": {},
   "outputs": [],
   "source": []
  }
 ],
 "metadata": {
  "hide_input": false,
  "kernelspec": {
   "display_name": "Python 3 (ipykernel)",
   "language": "python",
   "name": "python3"
  },
  "language_info": {
   "codemirror_mode": {
    "name": "ipython",
    "version": 3
   },
   "file_extension": ".py",
   "mimetype": "text/x-python",
   "name": "python",
   "nbconvert_exporter": "python",
   "pygments_lexer": "ipython3",
   "version": "3.8.8"
  },
  "toc": {
   "base_numbering": 1,
   "nav_menu": {},
   "number_sections": true,
   "sideBar": true,
   "skip_h1_title": false,
   "title_cell": "Table of Contents",
   "title_sidebar": "Contents",
   "toc_cell": false,
   "toc_position": {},
   "toc_section_display": true,
   "toc_window_display": false
  },
  "varInspector": {
   "cols": {
    "lenName": 16,
    "lenType": 16,
    "lenVar": 40
   },
   "kernels_config": {
    "python": {
     "delete_cmd_postfix": "",
     "delete_cmd_prefix": "del ",
     "library": "var_list.py",
     "varRefreshCmd": "print(var_dic_list())"
    },
    "r": {
     "delete_cmd_postfix": ") ",
     "delete_cmd_prefix": "rm(",
     "library": "var_list.r",
     "varRefreshCmd": "cat(var_dic_list()) "
    }
   },
   "types_to_exclude": [
    "module",
    "function",
    "builtin_function_or_method",
    "instance",
    "_Feature"
   ],
   "window_display": false
  }
 },
 "nbformat": 4,
 "nbformat_minor": 5
}
