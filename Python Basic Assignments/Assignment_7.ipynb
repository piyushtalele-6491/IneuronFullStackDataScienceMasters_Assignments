{
 "cells": [
  {
   "cell_type": "markdown",
   "id": "99975c4a",
   "metadata": {},
   "source": [
    "\n",
    "#### Create two int type variables, apply addition, subtraction, division and multiplications and store the results in variables. Then print the data in the following format by calling the variables:\n",
    "\t\t\tFirst variable is __ & second variable is __.\n",
    "            Addition: __ + __ = __\n",
    "\t\t\tSubtraction: __ - __ = __\n",
    "\t\t\tMultiplication: __ * __ = __\n",
    "\t\t\tDivision: __ / __ = __\n"
   ]
  },
  {
   "cell_type": "code",
   "execution_count": 1,
   "id": "db34d0f5",
   "metadata": {
    "ExecuteTime": {
     "end_time": "2023-06-01T11:48:45.799640Z",
     "start_time": "2023-06-01T11:48:45.790113Z"
    }
   },
   "outputs": [
    {
     "name": "stdout",
     "output_type": "stream",
     "text": [
      "First variable is 10 & second variable is 5.\n",
      "Addition: 10 + 5 = 15\n",
      "Subtraction: 10 - 5 = 5\n",
      "Multiplication: 10 * 5 = 50\n",
      "Division: 10 / 5 = 2.0\n"
     ]
    }
   ],
   "source": [
    "# Create two integer variables\n",
    "num1 = 10\n",
    "num2 = 5\n",
    "\n",
    "# Perform arithmetic operations and store the results in variables\n",
    "addition = num1 + num2\n",
    "subtraction = num1 - num2\n",
    "multiplication = num1 * num2\n",
    "division = num1 / num2\n",
    "\n",
    "# Print the data in the desired format\n",
    "print(f\"First variable is {num1} & second variable is {num2}.\")\n",
    "print(f\"Addition: {num1} + {num2} = {addition}\")\n",
    "print(f\"Subtraction: {num1} - {num2} = {subtraction}\")\n",
    "print(f\"Multiplication: {num1} * {num2} = {multiplication}\")\n",
    "print(f\"Division: {num1} / {num2} = {division}\")\n"
   ]
  },
  {
   "cell_type": "markdown",
   "id": "e1b5368e",
   "metadata": {},
   "source": [
    "#### What is the difference between the following operators:\n",
    "\t\t\t(i) ‘/’ & ‘//’\n",
    "\t\t\t(ii) ‘**’ & ‘^’\n"
   ]
  },
  {
   "cell_type": "code",
   "execution_count": 2,
   "id": "c31dc4e0",
   "metadata": {
    "ExecuteTime": {
     "end_time": "2023-06-01T11:49:00.717809Z",
     "start_time": "2023-06-01T11:49:00.700781Z"
    }
   },
   "outputs": [
    {
     "name": "stdout",
     "output_type": "stream",
     "text": [
      "3.3333333333333335\n",
      "3\n"
     ]
    }
   ],
   "source": [
    "num1 = 10\n",
    "num2 = 3\n",
    "\n",
    "result1 = num1 / num2  # Floating-point division\n",
    "result2 = num1 // num2  # Integer division\n",
    "\n",
    "print(result1)  # Output: 3.3333333333333335\n",
    "print(result2)  # Output: 3\n"
   ]
  },
  {
   "cell_type": "raw",
   "id": "164fdd96",
   "metadata": {},
   "source": [
    "/ is the division operator in Python, which performs floating-point division. It returns the exact quotient of the division, including decimal places.\n",
    "\n",
    "// is the floor division operator in Python, which performs integer division. It returns the largest whole number that is less than or equal to the exact quotient of the division, effectively discarding the decimal places"
   ]
  },
  {
   "cell_type": "code",
   "execution_count": 4,
   "id": "0f6b228f",
   "metadata": {
    "ExecuteTime": {
     "end_time": "2023-06-01T11:49:57.981773Z",
     "start_time": "2023-06-01T11:49:57.966292Z"
    }
   },
   "outputs": [
    {
     "name": "stdout",
     "output_type": "stream",
     "text": [
      "8\n",
      "1\n"
     ]
    }
   ],
   "source": [
    "base = 2\n",
    "exponent = 3\n",
    "\n",
    "result1 = base ** exponent  # Exponentiation\n",
    "result2 = base ^ exponent  # Bitwise XOR\n",
    "\n",
    "print(result1)  # Output: 8\n",
    "print(result2)  # Output: 1\n"
   ]
  },
  {
   "cell_type": "raw",
   "id": "5232a990",
   "metadata": {},
   "source": [
    "** is the exponentiation operator in Python, used to raise a number to a power. It calculates the value of the base raised to the exponent.\n",
    "\n",
    "^ is not the exponentiation operator in Python. Instead, it is the bitwise XOR operator, used for performing bitwise XOR operation between two integers."
   ]
  },
  {
   "cell_type": "markdown",
   "id": "7c0354bc",
   "metadata": {},
   "source": [
    "#### List the logical operators.\n"
   ]
  },
  {
   "cell_type": "raw",
   "id": "779adb77",
   "metadata": {},
   "source": [
    "The logical operators in Python are:\n",
    "\n",
    "and - Logical AND operator: Returns True if both operands are True, otherwise returns False.\n",
    "or - Logical OR operator: Returns True if at least one of the operands is True, otherwise returns False.\n",
    "not - Logical NOT operator: Reverses the logical value of the operand. Returns True if the operand is False, and returns False if the operand is True.\n",
    "\n",
    "\n",
    "These logical operators are used to perform logical operations and evaluate conditions in control flow statements, such as if statements and loops"
   ]
  },
  {
   "cell_type": "markdown",
   "id": "fd271ef5",
   "metadata": {},
   "source": [
    "#### Explain right shift operator and left shift operator with examples.\n"
   ]
  },
  {
   "cell_type": "code",
   "execution_count": 5,
   "id": "13849e8f",
   "metadata": {
    "ExecuteTime": {
     "end_time": "2023-06-01T12:00:07.985263Z",
     "start_time": "2023-06-01T12:00:07.970484Z"
    }
   },
   "outputs": [
    {
     "name": "stdout",
     "output_type": "stream",
     "text": [
      "3\n"
     ]
    }
   ],
   "source": [
    "num = 12  # Binary: 1100\n",
    "\n",
    "result = num >> 2  # Shift right by 2 positions\n",
    "\n",
    "print(result)  # Output: 3  (Binary: 11)\n"
   ]
  },
  {
   "cell_type": "markdown",
   "id": "3cf9ed92",
   "metadata": {},
   "source": [
    "num is initially 12, which is represented in binary as 1100. Shifting the bits to the right by 2 positions using num >> 2 results in 3, which is represented in binary as 11."
   ]
  },
  {
   "cell_type": "code",
   "execution_count": 6,
   "id": "c3b71fe4",
   "metadata": {
    "ExecuteTime": {
     "end_time": "2023-06-01T12:00:30.679970Z",
     "start_time": "2023-06-01T12:00:30.669492Z"
    }
   },
   "outputs": [
    {
     "name": "stdout",
     "output_type": "stream",
     "text": [
      "12\n"
     ]
    }
   ],
   "source": [
    "num = 3  # Binary: 11\n",
    "\n",
    "result = num << 2  # Shift left by 2 positions\n",
    "\n",
    "print(result)  # Output: 12  (Binary: 1100)\n"
   ]
  },
  {
   "cell_type": "markdown",
   "id": "8f1e62d5",
   "metadata": {},
   "source": [
    "num is initially 3, which is represented in binary as 11. Shifting the bits to the left by 2 positions using num << 2 results in 12, which is represented in binary as 1100."
   ]
  },
  {
   "cell_type": "markdown",
   "id": "29194ae4",
   "metadata": {},
   "source": [
    "#### Create a list containing int type data of length 15. Then write a code to check if 10 is present in the list or not."
   ]
  },
  {
   "cell_type": "code",
   "execution_count": 7,
   "id": "0d243434",
   "metadata": {
    "ExecuteTime": {
     "end_time": "2023-06-01T12:01:01.114907Z",
     "start_time": "2023-06-01T12:01:01.102536Z"
    }
   },
   "outputs": [
    {
     "name": "stdout",
     "output_type": "stream",
     "text": [
      "10 is present in the list.\n"
     ]
    }
   ],
   "source": [
    "# Create a list of integers\n",
    "numbers = [5, 8, 3, 12, 10, 7, 15, 21, 9, 6, 14, 18, 11, 17, 4]\n",
    "\n",
    "# Check if 10 is present in the list\n",
    "if 10 in numbers:\n",
    "    print(\"10 is present in the list.\")\n",
    "else:\n",
    "    print(\"10 is not present in the list.\")\n"
   ]
  },
  {
   "cell_type": "code",
   "execution_count": null,
   "id": "1a3ec895",
   "metadata": {},
   "outputs": [],
   "source": []
  }
 ],
 "metadata": {
  "hide_input": false,
  "kernelspec": {
   "display_name": "Python 3 (ipykernel)",
   "language": "python",
   "name": "python3"
  },
  "language_info": {
   "codemirror_mode": {
    "name": "ipython",
    "version": 3
   },
   "file_extension": ".py",
   "mimetype": "text/x-python",
   "name": "python",
   "nbconvert_exporter": "python",
   "pygments_lexer": "ipython3",
   "version": "3.8.8"
  },
  "toc": {
   "base_numbering": 1,
   "nav_menu": {},
   "number_sections": true,
   "sideBar": true,
   "skip_h1_title": false,
   "title_cell": "Table of Contents",
   "title_sidebar": "Contents",
   "toc_cell": false,
   "toc_position": {},
   "toc_section_display": true,
   "toc_window_display": false
  },
  "varInspector": {
   "cols": {
    "lenName": 16,
    "lenType": 16,
    "lenVar": 40
   },
   "kernels_config": {
    "python": {
     "delete_cmd_postfix": "",
     "delete_cmd_prefix": "del ",
     "library": "var_list.py",
     "varRefreshCmd": "print(var_dic_list())"
    },
    "r": {
     "delete_cmd_postfix": ") ",
     "delete_cmd_prefix": "rm(",
     "library": "var_list.r",
     "varRefreshCmd": "cat(var_dic_list()) "
    }
   },
   "types_to_exclude": [
    "module",
    "function",
    "builtin_function_or_method",
    "instance",
    "_Feature"
   ],
   "window_display": false
  }
 },
 "nbformat": 4,
 "nbformat_minor": 5
}
