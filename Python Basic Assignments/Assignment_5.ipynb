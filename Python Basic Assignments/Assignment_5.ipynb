{
 "cells": [
  {
   "cell_type": "markdown",
   "id": "5425f7b3",
   "metadata": {},
   "source": [
    "####  What does an empty dictionary's code look like?\n"
   ]
  },
  {
   "cell_type": "markdown",
   "id": "607fa934",
   "metadata": {
    "ExecuteTime": {
     "end_time": "2023-06-01T10:51:35.663974Z",
     "start_time": "2023-06-01T10:51:35.653928Z"
    }
   },
   "source": [
    "An empty dictionary in Python is represented by a pair of curly braces {} with no key-value pairs inside. "
   ]
  },
  {
   "cell_type": "code",
   "execution_count": 2,
   "id": "be8ffec1",
   "metadata": {
    "ExecuteTime": {
     "end_time": "2023-06-01T10:51:55.745043Z",
     "start_time": "2023-06-01T10:51:55.723285Z"
    }
   },
   "outputs": [
    {
     "data": {
      "text/plain": [
       "{}"
      ]
     },
     "execution_count": 2,
     "metadata": {},
     "output_type": "execute_result"
    }
   ],
   "source": [
    "empty_dict = {}\n",
    "empty_dict"
   ]
  },
  {
   "cell_type": "markdown",
   "id": "c219d601",
   "metadata": {},
   "source": [
    "####  What is the value of a dictionary value with the key 'foo' and the value 42?\n"
   ]
  },
  {
   "cell_type": "code",
   "execution_count": 3,
   "id": "613ca43e",
   "metadata": {
    "ExecuteTime": {
     "end_time": "2023-06-01T10:52:55.293401Z",
     "start_time": "2023-06-01T10:52:55.285173Z"
    }
   },
   "outputs": [
    {
     "name": "stdout",
     "output_type": "stream",
     "text": [
      "42\n"
     ]
    }
   ],
   "source": [
    "my_dict = {'foo': 42}\n",
    "value = my_dict['foo']\n",
    "print(value)  # Output: 42\n"
   ]
  },
  {
   "cell_type": "markdown",
   "id": "39e241b0",
   "metadata": {},
   "source": [
    "####  What is the most significant distinction between a dictionary and a list?\n"
   ]
  },
  {
   "cell_type": "markdown",
   "id": "1e60127a",
   "metadata": {},
   "source": [
    "<p><strong>Structure:</strong></p>\n",
    "<p style=\"padding-left: 40px;\"><span style=\"text-decoration: underline;\">Dictionary:</span> A dictionary is an unordered collection of key-value pairs, where each key is unique. The keys in a dictionary are used to access the corresponding values. Dictionaries are enclosed in curly braces {} and use the key: value syntax to define entries.</p>\n",
    "<p style=\"padding-left: 40px;\"><span style=\"text-decoration: underline;\">List:</span> A list is an ordered collection of values, where each value has a specific index. The values in a list are accessed based on their position in the list. Lists are enclosed in square brackets [] and values are separated by commas.</p>\n",
    "<p>&nbsp;</p>\n",
    "<p><strong>Accessing Data:</strong></p>\n",
    "<p style=\"padding-left: 40px;\"><span style=\"text-decoration: underline;\">Dictionary:</span> In a dictionary, values are accessed by their associated keys. You can retrieve the value by providing the key in square brackets or using the get() method. <span style=\"text-decoration: underline;\">List:</span> In a list, values are accessed by their index position. You can retrieve the value by providing the index in square brackets.</p>\n",
    "<p style=\"padding-left: 40px;\">&nbsp;</p>\n",
    "<p><strong>Mutability:</strong></p>\n",
    "<p style=\"padding-left: 40px;\"><span style=\"text-decoration: underline;\">Dictionary:</span> Dictionaries are mutable, meaning you can change, add, or remove key-value pairs.</p>\n",
    "<p style=\"padding-left: 40px;\"><span style=\"text-decoration: underline;\">List:</span> Lists are mutable as well, allowing you to modify the elements by assigning new values, adding or removing items.</p>\n",
    "<p style=\"padding-left: 40px;\">&nbsp;</p>\n",
    "<p><strong>Order:</strong></p>\n",
    "<p style=\"padding-left: 40px;\"><span style=\"text-decoration: underline;\">Dictionary:</span> Dictionaries are unordered, meaning they do not have a specific order of elements. The order of key-value pairs may vary when iterating over a dictionary. <span style=\"text-decoration: underline;\">List:</span> Lists maintain the order of elements as they are inserted. The position of each element in the list is fixed.</p>"
   ]
  },
  {
   "cell_type": "markdown",
   "id": "7ee9e284",
   "metadata": {},
   "source": [
    "####  What happens if you try to access spam['foo'] if spam is {'bar': 100}?\n"
   ]
  },
  {
   "cell_type": "code",
   "execution_count": 4,
   "id": "5a8711cc",
   "metadata": {
    "ExecuteTime": {
     "end_time": "2023-06-01T10:58:31.420219Z",
     "start_time": "2023-06-01T10:58:31.082063Z"
    }
   },
   "outputs": [
    {
     "ename": "KeyError",
     "evalue": "'foo'",
     "output_type": "error",
     "traceback": [
      "\u001b[1;31m---------------------------------------------------------------------------\u001b[0m",
      "\u001b[1;31mKeyError\u001b[0m                                  Traceback (most recent call last)",
      "\u001b[1;32m~\\AppData\\Local\\Temp/ipykernel_28224/3502867902.py\u001b[0m in \u001b[0;36m<module>\u001b[1;34m\u001b[0m\n\u001b[0;32m      1\u001b[0m \u001b[0mspam\u001b[0m \u001b[1;33m=\u001b[0m \u001b[1;33m{\u001b[0m\u001b[1;34m'bar'\u001b[0m\u001b[1;33m:\u001b[0m \u001b[1;36m100\u001b[0m\u001b[1;33m}\u001b[0m\u001b[1;33m\u001b[0m\u001b[1;33m\u001b[0m\u001b[0m\n\u001b[1;32m----> 2\u001b[1;33m \u001b[0mvalue\u001b[0m \u001b[1;33m=\u001b[0m \u001b[0mspam\u001b[0m\u001b[1;33m[\u001b[0m\u001b[1;34m'foo'\u001b[0m\u001b[1;33m]\u001b[0m  \u001b[1;31m# Raises KeyError: 'foo'\u001b[0m\u001b[1;33m\u001b[0m\u001b[1;33m\u001b[0m\u001b[0m\n\u001b[0m",
      "\u001b[1;31mKeyError\u001b[0m: 'foo'"
     ]
    }
   ],
   "source": [
    "spam = {'bar': 100}\n",
    "value = spam['foo']  # Raises KeyError: 'foo'\n"
   ]
  },
  {
   "cell_type": "code",
   "execution_count": 5,
   "id": "efe5758f",
   "metadata": {
    "ExecuteTime": {
     "end_time": "2023-06-01T10:58:53.403443Z",
     "start_time": "2023-06-01T10:58:53.390368Z"
    }
   },
   "outputs": [
    {
     "name": "stdout",
     "output_type": "stream",
     "text": [
      "default value\n"
     ]
    }
   ],
   "source": [
    "value = spam.get('foo', 'default value')\n",
    "print(value)  # Output: 'default value'"
   ]
  },
  {
   "cell_type": "markdown",
   "id": "f15b5541",
   "metadata": {},
   "source": [
    "####  If a dictionary is stored in spam, what is the difference between the expressions 'cat' in spam and 'cat' in spam.keys()?\n"
   ]
  },
  {
   "cell_type": "raw",
   "id": "a7ddd05b",
   "metadata": {},
   "source": [
    "'cat' in spam:\n",
    "This expression checks whether the key 'cat' exists in the dictionary spam. It returns True if the key is found as one of the keys in the dictionary, and False otherwise. It directly checks for the presence of the key in the dictionary's keys.\n",
    "\n",
    "'cat' in spam.values():\n",
    "This expression checks whether the value 'cat' exists in the dictionary spam. It returns True if the value is found in any of the dictionary's values, and False otherwise. It checks for the presence of the value in the dictionary's values."
   ]
  },
  {
   "cell_type": "code",
   "execution_count": 6,
   "id": "0c1f6935",
   "metadata": {
    "ExecuteTime": {
     "end_time": "2023-06-01T11:00:40.508276Z",
     "start_time": "2023-06-01T11:00:40.488322Z"
    }
   },
   "outputs": [
    {
     "name": "stdout",
     "output_type": "stream",
     "text": [
      "False\n",
      "True\n"
     ]
    }
   ],
   "source": [
    "spam = {'animal': 'cat'}\n",
    "print('cat' in spam)           # Output: False (key 'cat' does not exist)\n",
    "print('cat' in spam.values())  # Output: True (value 'cat' exists)\n"
   ]
  },
  {
   "cell_type": "markdown",
   "id": "df557ee9",
   "metadata": {},
   "source": [
    "####  If a dictionary is stored in spam, what is the difference between the expressions 'cat' in spam and 'cat' in spam.values()?\n"
   ]
  },
  {
   "cell_type": "code",
   "execution_count": null,
   "id": "509bc9e7",
   "metadata": {},
   "outputs": [],
   "source": [
    "Duplicate"
   ]
  },
  {
   "cell_type": "markdown",
   "id": "6266d621",
   "metadata": {},
   "source": [
    "####  What is a shortcut for the following code?\n",
    "\t\tif 'color' not in spam:\n",
    "\t\tspam['color'] = 'black'\n",
    "\t\n"
   ]
  },
  {
   "cell_type": "markdown",
   "id": "9101ac55",
   "metadata": {},
   "source": [
    "We can use dict.setdefault() method. This method allows you to set a default value for a key if it does not already exist in the dictionary."
   ]
  },
  {
   "cell_type": "code",
   "execution_count": 7,
   "id": "6cdacc1a",
   "metadata": {
    "ExecuteTime": {
     "end_time": "2023-06-01T11:02:29.705833Z",
     "start_time": "2023-06-01T11:02:29.691760Z"
    }
   },
   "outputs": [
    {
     "data": {
      "text/plain": [
       "'black'"
      ]
     },
     "execution_count": 7,
     "metadata": {},
     "output_type": "execute_result"
    }
   ],
   "source": [
    "spam.setdefault('color', 'black')\n"
   ]
  },
  {
   "cell_type": "markdown",
   "id": "33f10d9d",
   "metadata": {},
   "source": [
    "####  How do you \"pretty print\" dictionary values using which module and function?"
   ]
  },
  {
   "cell_type": "markdown",
   "id": "3d980c62",
   "metadata": {},
   "source": [
    "To \"pretty print\" dictionary values in a more readable format, you can use the pprint module and its pprint() function. The pprint module provides a way to print complex data structures, including dictionaries, with indentation and line breaks."
   ]
  },
  {
   "cell_type": "code",
   "execution_count": 9,
   "id": "420c949d",
   "metadata": {
    "ExecuteTime": {
     "end_time": "2023-06-01T11:03:29.388354Z",
     "start_time": "2023-06-01T11:03:29.366623Z"
    }
   },
   "outputs": [
    {
     "name": "stdout",
     "output_type": "stream",
     "text": [
      "{'age': 30, 'city': 'New York', 'name': 'John'}\n"
     ]
    }
   ],
   "source": [
    "import pprint\n",
    "\n",
    "my_dict = {'name': 'John', 'age': 30, 'city': 'New York'}\n",
    "pprint.pprint(my_dict)\n"
   ]
  },
  {
   "cell_type": "code",
   "execution_count": null,
   "id": "73f06f90",
   "metadata": {},
   "outputs": [],
   "source": []
  }
 ],
 "metadata": {
  "hide_input": false,
  "kernelspec": {
   "display_name": "Python 3 (ipykernel)",
   "language": "python",
   "name": "python3"
  },
  "language_info": {
   "codemirror_mode": {
    "name": "ipython",
    "version": 3
   },
   "file_extension": ".py",
   "mimetype": "text/x-python",
   "name": "python",
   "nbconvert_exporter": "python",
   "pygments_lexer": "ipython3",
   "version": "3.8.8"
  },
  "toc": {
   "base_numbering": 1,
   "nav_menu": {},
   "number_sections": true,
   "sideBar": true,
   "skip_h1_title": false,
   "title_cell": "Table of Contents",
   "title_sidebar": "Contents",
   "toc_cell": false,
   "toc_position": {},
   "toc_section_display": true,
   "toc_window_display": false
  },
  "varInspector": {
   "cols": {
    "lenName": 16,
    "lenType": 16,
    "lenVar": 40
   },
   "kernels_config": {
    "python": {
     "delete_cmd_postfix": "",
     "delete_cmd_prefix": "del ",
     "library": "var_list.py",
     "varRefreshCmd": "print(var_dic_list())"
    },
    "r": {
     "delete_cmd_postfix": ") ",
     "delete_cmd_prefix": "rm(",
     "library": "var_list.r",
     "varRefreshCmd": "cat(var_dic_list()) "
    }
   },
   "types_to_exclude": [
    "module",
    "function",
    "builtin_function_or_method",
    "instance",
    "_Feature"
   ],
   "window_display": false
  }
 },
 "nbformat": 4,
 "nbformat_minor": 5
}
