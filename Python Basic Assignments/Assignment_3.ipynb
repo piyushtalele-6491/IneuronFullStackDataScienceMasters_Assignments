{
 "cells": [
  {
   "cell_type": "markdown",
   "id": "6c4cbab2",
   "metadata": {
    "run_control": {
     "marked": false
    }
   },
   "source": [
    "#### Why are functions advantageous to have in your programs?\n"
   ]
  },
  {
   "cell_type": "raw",
   "id": "2389f922",
   "metadata": {
    "ExecuteTime": {
     "end_time": "2023-05-26T11:14:11.590757Z",
     "start_time": "2023-05-26T11:14:11.542224Z"
    }
   },
   "source": [
    "Functions provide a way to structure your code, promote code reuse, enhance maintainability, improve collaboration, and make your programs more organized, readable, and manageable. They are a fundamental building block of modular and efficient programming."
   ]
  },
  {
   "cell_type": "markdown",
   "id": "e5fe747e",
   "metadata": {},
   "source": [
    "#### When does the code in a function run: when it's specified or when it's called?\n",
    "\n"
   ]
  },
  {
   "cell_type": "raw",
   "id": "c76eb132",
   "metadata": {},
   "source": [
    "The code inside a function runs when the function is called, not when it is specified or defined.\n",
    "\n",
    "Defining a function involves writing the code that defines its behavior and functionality. However, this code is not executed immediately when the function is defined. It serves as a blueprint or template for the function's behavior.\n",
    "\n",
    "The actual execution of the code inside a function occurs when the function is called or invoked in the program. When you call a function, the program transfers control to that function, and the code inside the function is executed line by line."
   ]
  },
  {
   "cell_type": "code",
   "execution_count": 3,
   "id": "f4edd758",
   "metadata": {
    "ExecuteTime": {
     "end_time": "2023-05-26T11:19:03.263068Z",
     "start_time": "2023-05-26T11:19:03.226131Z"
    }
   },
   "outputs": [
    {
     "name": "stdout",
     "output_type": "stream",
     "text": [
      "Before function call\n",
      "Hello, there!\n",
      "How are you?\n",
      "After function call\n"
     ]
    }
   ],
   "source": [
    "def greet():\n",
    "    print(\"Hello, there!\")\n",
    "    print(\"How are you?\")\n",
    "\n",
    "print(\"Before function call\")\n",
    "greet()  # Calling the greet() function\n",
    "print(\"After function call\")"
   ]
  },
  {
   "cell_type": "markdown",
   "id": "3804e152",
   "metadata": {},
   "source": [
    "#### What statement creates a function?\n"
   ]
  },
  {
   "cell_type": "raw",
   "id": "4a6ef6c6",
   "metadata": {},
   "source": [
    "The def statement is used to create a function in Python."
   ]
  },
  {
   "cell_type": "code",
   "execution_count": 2,
   "id": "30787fda",
   "metadata": {
    "ExecuteTime": {
     "end_time": "2023-05-26T11:16:56.361703Z",
     "start_time": "2023-05-26T11:16:56.333505Z"
    }
   },
   "outputs": [],
   "source": [
    "def greet():\n",
    "    print(\"Hello, there!\")\n",
    "    print(\"How are you?\")"
   ]
  },
  {
   "cell_type": "markdown",
   "id": "628f91aa",
   "metadata": {},
   "source": [
    "#### What is the difference between a function and a function call?\n"
   ]
  },
  {
   "cell_type": "raw",
   "id": "43f7021a",
   "metadata": {},
   "source": [
    "A function is a defined piece of code that represents a specific functionality or task, while a function call is the act of using that function to perform its task at a particular point in the program. The function call triggers the execution of the code inside the function, allowing you to reuse and invoke the function whenever needed."
   ]
  },
  {
   "cell_type": "code",
   "execution_count": 5,
   "id": "52f38510",
   "metadata": {
    "ExecuteTime": {
     "end_time": "2023-05-26T11:19:42.085959Z",
     "start_time": "2023-05-26T11:19:42.050563Z"
    }
   },
   "outputs": [
    {
     "name": "stdout",
     "output_type": "stream",
     "text": [
      "Hello, Piyush!\n"
     ]
    }
   ],
   "source": [
    "def greet(name):\n",
    "    print(\"Hello, \" + name + \"!\")\n",
    "\n",
    "# Function definition: Defines the behavior of the greet() function\n",
    "\n",
    "greet(\"Piyush\")\n",
    "# Function call: Invokes the greet() function with the argument \"Piyush\"\n"
   ]
  },
  {
   "cell_type": "markdown",
   "id": "1654406a",
   "metadata": {},
   "source": [
    "#### How many global scopes are there in a Python program? How many local scopes?\n"
   ]
  },
  {
   "cell_type": "raw",
   "id": "80cb9b71",
   "metadata": {},
   "source": [
    "Python program has one global scope accessible throughout the program, and the number of local scopes depends on the number of function definitions, with each function call creating a new local scope."
   ]
  },
  {
   "cell_type": "raw",
   "id": "ec30d3e8",
   "metadata": {},
   "source": [
    "In a Python program, there is only one global scope, which represents the top-level scope of the program. This global scope is accessible from anywhere within the program."
   ]
  },
  {
   "cell_type": "code",
   "execution_count": 6,
   "id": "3548d35e",
   "metadata": {
    "ExecuteTime": {
     "end_time": "2023-05-26T11:21:20.023731Z",
     "start_time": "2023-05-26T11:21:19.991987Z"
    }
   },
   "outputs": [
    {
     "name": "stdout",
     "output_type": "stream",
     "text": [
      "10\n"
     ]
    }
   ],
   "source": [
    "global_variable = 10\n",
    "\n",
    "def my_function():\n",
    "    print(global_variable)  # Accessing the global variable\n",
    "\n",
    "my_function()  # Calling the function"
   ]
  },
  {
   "cell_type": "raw",
   "id": "ed3f4840",
   "metadata": {},
   "source": [
    " The number of local scopes in a Python program can vary based on the number of function definitions. Each time a function is called, a new local scope is created for that function. Local scopes are separate and isolated from the global scope and other local scopes."
   ]
  },
  {
   "cell_type": "code",
   "execution_count": 7,
   "id": "d79112dc",
   "metadata": {
    "ExecuteTime": {
     "end_time": "2023-05-26T11:22:04.513851Z",
     "start_time": "2023-05-26T11:22:04.488132Z"
    }
   },
   "outputs": [
    {
     "name": "stdout",
     "output_type": "stream",
     "text": [
      "10\n",
      "20\n"
     ]
    }
   ],
   "source": [
    "global_variable = 10\n",
    "\n",
    "def my_function():\n",
    "    local_variable = 20\n",
    "    print(global_variable)  # Accessing the global variable\n",
    "    print(local_variable)  # Accessing the local variable\n",
    "\n",
    "my_function()  # Calling the function\n"
   ]
  },
  {
   "cell_type": "markdown",
   "id": "2bd193f9",
   "metadata": {
    "ExecuteTime": {
     "end_time": "2023-05-25T14:10:52.625445Z",
     "start_time": "2023-05-25T14:10:52.619399Z"
    }
   },
   "source": [
    "#### What happens to variables in a local scope when the function call returns?\n"
   ]
  },
  {
   "cell_type": "raw",
   "id": "0a181d50",
   "metadata": {},
   "source": [
    "When a function call returns, the local scope associated with that function is destroyed, and the variables defined within that local scope cease to exist.\n",
    "\n",
    "When a function call completes, the local scope associated with that function is destroyed, and any variables defined within that local scope are deallocated from memory. Therefore, you cannot access or refer to those variables outside the function.\n",
    "\n",
    "It's important to note that variables defined in the global scope, outside any functions, retain their values and continue to exist even after function calls return. They can be accessed and used from anywhere within the program."
   ]
  },
  {
   "cell_type": "code",
   "execution_count": 8,
   "id": "a4925296",
   "metadata": {
    "ExecuteTime": {
     "end_time": "2023-05-26T11:24:34.985255Z",
     "start_time": "2023-05-26T11:24:28.451328Z"
    }
   },
   "outputs": [
    {
     "name": "stdout",
     "output_type": "stream",
     "text": [
      "10\n"
     ]
    },
    {
     "ename": "NameError",
     "evalue": "name 'local_variable' is not defined",
     "output_type": "error",
     "traceback": [
      "\u001b[1;31m---------------------------------------------------------------------------\u001b[0m",
      "\u001b[1;31mNameError\u001b[0m                                 Traceback (most recent call last)",
      "\u001b[1;32m~\\AppData\\Local\\Temp/ipykernel_1612/2147211477.py\u001b[0m in \u001b[0;36m<module>\u001b[1;34m\u001b[0m\n\u001b[0;32m      6\u001b[0m \u001b[1;33m\u001b[0m\u001b[0m\n\u001b[0;32m      7\u001b[0m \u001b[1;31m# Attempting to access the local_variable outside the function\u001b[0m\u001b[1;33m\u001b[0m\u001b[1;33m\u001b[0m\u001b[1;33m\u001b[0m\u001b[0m\n\u001b[1;32m----> 8\u001b[1;33m \u001b[0mprint\u001b[0m\u001b[1;33m(\u001b[0m\u001b[0mlocal_variable\u001b[0m\u001b[1;33m)\u001b[0m\u001b[1;33m\u001b[0m\u001b[1;33m\u001b[0m\u001b[0m\n\u001b[0m",
      "\u001b[1;31mNameError\u001b[0m: name 'local_variable' is not defined"
     ]
    }
   ],
   "source": [
    "def my_function():\n",
    "    local_variable = 10\n",
    "    print(local_variable)\n",
    "\n",
    "my_function()  # Calling the function\n",
    "\n",
    "# Attempting to access the local_variable outside the function\n",
    "print(local_variable)\n"
   ]
  },
  {
   "cell_type": "markdown",
   "id": "b8ec13c0",
   "metadata": {},
   "source": [
    "#### What is the concept of a return value? Is it possible to have a return value in an expression?\n"
   ]
  },
  {
   "cell_type": "raw",
   "id": "90a44b42",
   "metadata": {},
   "source": [
    "The concept of a return value refers to the value that a function produces or \"returns\" when it is called and completes its execution. When a function is defined, you can specify what value it should return using the return statement."
   ]
  },
  {
   "cell_type": "raw",
   "id": "3ac3117d",
   "metadata": {},
   "source": [
    "A return value is the value that a function produces and provides back to the caller using the return statement. It allows data to be passed from the function to the caller, and the returned value can be used in expressions, assignments, or as arguments to other functions."
   ]
  },
  {
   "cell_type": "code",
   "execution_count": 9,
   "id": "a0e84b95",
   "metadata": {
    "ExecuteTime": {
     "end_time": "2023-05-26T11:26:33.890637Z",
     "start_time": "2023-05-26T11:26:33.851775Z"
    }
   },
   "outputs": [
    {
     "name": "stdout",
     "output_type": "stream",
     "text": [
      "7\n"
     ]
    }
   ],
   "source": [
    "def add_numbers(a, b):\n",
    "    result = a + b\n",
    "    return result\n",
    "\n",
    "sum = add_numbers(3, 4)\n",
    "print(sum)  # Output: 7\n"
   ]
  },
  {
   "cell_type": "markdown",
   "id": "d12551d4",
   "metadata": {},
   "source": [
    "#### If a function does not have a return statement, what is the return value of a call to that function?\n"
   ]
  },
  {
   "cell_type": "raw",
   "id": "517bb541",
   "metadata": {},
   "source": [
    "If a function does not have a return statement, or if the return statement is omitted, the function call will still return a value. However, the returned value will be None.\n",
    "\n",
    "None is a special value in Python that represents the absence of a value. It serves as a default return value when no explicit return statement is provided in a function."
   ]
  },
  {
   "cell_type": "code",
   "execution_count": 10,
   "id": "adf78528",
   "metadata": {
    "ExecuteTime": {
     "end_time": "2023-05-26T11:31:32.803587Z",
     "start_time": "2023-05-26T11:31:32.773970Z"
    }
   },
   "outputs": [
    {
     "name": "stdout",
     "output_type": "stream",
     "text": [
      "Hello, there!\n",
      "None\n"
     ]
    }
   ],
   "source": [
    "def greet():\n",
    "    print(\"Hello, there!\")\n",
    "\n",
    "result = greet()\n",
    "print(result)  # Output: None\n"
   ]
  },
  {
   "cell_type": "markdown",
   "id": "436c0e77",
   "metadata": {},
   "source": [
    "#### How do you make a function variable refer to the global variable?\n"
   ]
  },
  {
   "cell_type": "raw",
   "id": "a1cfc7b2",
   "metadata": {},
   "source": [
    "To make a function variable refer to a global variable, you can use the global keyword within the function to explicitly indicate that you want to access and modify the global variable, rather than creating a new local variable with the same name."
   ]
  },
  {
   "cell_type": "code",
   "execution_count": 11,
   "id": "3eda1e30",
   "metadata": {
    "ExecuteTime": {
     "end_time": "2023-05-26T11:32:47.304824Z",
     "start_time": "2023-05-26T11:32:47.283700Z"
    }
   },
   "outputs": [
    {
     "name": "stdout",
     "output_type": "stream",
     "text": [
      "10\n",
      "15\n"
     ]
    }
   ],
   "source": [
    "global_variable = 10\n",
    "\n",
    "def modify_global_variable():\n",
    "    global global_variable  # Declare the variable as global\n",
    "    global_variable += 5    # Modify the global variable\n",
    "\n",
    "print(global_variable)           # Output: 10\n",
    "modify_global_variable()\n",
    "print(global_variable)           # Output: 15\n"
   ]
  },
  {
   "cell_type": "markdown",
   "id": "b8ba49bd",
   "metadata": {},
   "source": [
    "####  What is the data type of None?\n"
   ]
  },
  {
   "cell_type": "raw",
   "id": "ee8604b0",
   "metadata": {},
   "source": [
    "The data type of None in Python is NoneType. None represents the absence of a value or the lack of a specific object. It is often used to indicate that a variable or function does not have a meaningful value or to signify the absence of a result."
   ]
  },
  {
   "cell_type": "code",
   "execution_count": 12,
   "id": "03065315",
   "metadata": {
    "ExecuteTime": {
     "end_time": "2023-05-26T11:33:32.217117Z",
     "start_time": "2023-05-26T11:33:32.189996Z"
    }
   },
   "outputs": [
    {
     "name": "stdout",
     "output_type": "stream",
     "text": [
      "<class 'NoneType'>\n"
     ]
    }
   ],
   "source": [
    "result = None\n",
    "print(type(result))  # Output: <class 'NoneType'>\n"
   ]
  },
  {
   "cell_type": "markdown",
   "id": "ab66f4ed",
   "metadata": {},
   "source": [
    "####  What does the sentence import areallyourpetsnamederic do?\n"
   ]
  },
  {
   "cell_type": "raw",
   "id": "dda9d4f6",
   "metadata": {},
   "source": [
    "The import statement is used to import modules or packages into your code, allowing you to access their functionalities, variables, and classes. "
   ]
  },
  {
   "cell_type": "markdown",
   "id": "805a7a6a",
   "metadata": {},
   "source": [
    "####  If you had a bacon() feature in a spam module, what would you call it after importing spam?\n"
   ]
  },
  {
   "cell_type": "raw",
   "id": "aebf9ccc",
   "metadata": {},
   "source": [
    "After importing the spam module, you can call the bacon() function by using the module name as a prefix followed by the function name."
   ]
  },
  {
   "cell_type": "code",
   "execution_count": 13,
   "id": "6f20f1ee",
   "metadata": {
    "ExecuteTime": {
     "end_time": "2023-05-26T11:35:26.605714Z",
     "start_time": "2023-05-26T11:35:26.529076Z"
    }
   },
   "outputs": [
    {
     "ename": "ModuleNotFoundError",
     "evalue": "No module named 'spam'",
     "output_type": "error",
     "traceback": [
      "\u001b[1;31m---------------------------------------------------------------------------\u001b[0m",
      "\u001b[1;31mModuleNotFoundError\u001b[0m                       Traceback (most recent call last)",
      "\u001b[1;32m~\\AppData\\Local\\Temp/ipykernel_1612/1458448255.py\u001b[0m in \u001b[0;36m<module>\u001b[1;34m\u001b[0m\n\u001b[1;32m----> 1\u001b[1;33m \u001b[1;32mimport\u001b[0m \u001b[0mspam\u001b[0m\u001b[1;33m\u001b[0m\u001b[1;33m\u001b[0m\u001b[0m\n\u001b[0m\u001b[0;32m      2\u001b[0m \u001b[1;33m\u001b[0m\u001b[0m\n\u001b[0;32m      3\u001b[0m \u001b[0mspam\u001b[0m\u001b[1;33m.\u001b[0m\u001b[0mbacon\u001b[0m\u001b[1;33m(\u001b[0m\u001b[1;33m)\u001b[0m\u001b[1;33m\u001b[0m\u001b[1;33m\u001b[0m\u001b[0m\n",
      "\u001b[1;31mModuleNotFoundError\u001b[0m: No module named 'spam'"
     ]
    }
   ],
   "source": [
    "import spam\n",
    "\n",
    "spam.bacon()\n"
   ]
  },
  {
   "cell_type": "markdown",
   "id": "759d234f",
   "metadata": {},
   "source": [
    "####  What can you do to save a programme from crashing if it encounters an error?\n"
   ]
  },
  {
   "cell_type": "raw",
   "id": "3f372b1c",
   "metadata": {},
   "source": [
    "You can use the try-except statement to implement error handling. The code within the try block is executed, and if an exception occurs, it is caught by the corresponding except block, allowing you to handle the error condition appropriately."
   ]
  },
  {
   "cell_type": "code",
   "execution_count": 14,
   "id": "e92d405f",
   "metadata": {
    "ExecuteTime": {
     "end_time": "2023-05-26T11:36:37.087640Z",
     "start_time": "2023-05-26T11:36:37.062262Z"
    }
   },
   "outputs": [
    {
     "name": "stdout",
     "output_type": "stream",
     "text": [
      "An error occurred: Division by zero\n"
     ]
    }
   ],
   "source": [
    "try:\n",
    "    # Code that may raise an exception\n",
    "    result = 10 / 0\n",
    "    print(result)\n",
    "except ZeroDivisionError:\n",
    "    # Handling a specific exception\n",
    "    print(\"An error occurred: Division by zero\")\n",
    "except Exception as e:\n",
    "    # Handling other exceptions\n",
    "    print(\"An error occurred:\", str(e))\n"
   ]
  },
  {
   "cell_type": "raw",
   "id": "12f3f78b",
   "metadata": {},
   "source": [
    "By handling exceptions in this manner, your program can detect and respond to errors without abruptly crashing. You can include appropriate error handling code to log the error, display user-friendly messages, perform alternative actions, or gracefully terminate the program.\n",
    "\n",
    "It's important to note that while error handling can prevent crashes and handle exceptions, it should be used judiciously. It's generally recommended to handle specific exceptions you anticipate or handle exceptions at appropriate levels in your code, rather than suppressing all exceptions, to maintain program stability and facilitate effective debugging."
   ]
  },
  {
   "cell_type": "markdown",
   "id": "13e5d2bd",
   "metadata": {},
   "source": [
    "####  What is the purpose of the try clause? What is the purpose of the except clause?"
   ]
  },
  {
   "cell_type": "raw",
   "id": "5bf8afd6",
   "metadata": {},
   "source": [
    "The try clause provides a block of code where exceptions are expected to occur, and the except clause defines how to handle those exceptions, allowing you to gracefully handle exceptional situations and continue the execution of the program.\n",
    "\n",
    "It's worth noting that the try-except statement can also include additional clauses such as else and finally to provide more control over the exception handling process. The else block is executed if no exceptions occur in the try block, and the finally block is executed regardless of whether an exception occurred or not."
   ]
  },
  {
   "cell_type": "code",
   "execution_count": 15,
   "id": "d4e8b87f",
   "metadata": {
    "ExecuteTime": {
     "end_time": "2023-05-26T11:38:00.187579Z",
     "start_time": "2023-05-26T11:38:00.162349Z"
    }
   },
   "outputs": [
    {
     "name": "stdout",
     "output_type": "stream",
     "text": [
      "An error occurred: Division by zero\n"
     ]
    }
   ],
   "source": [
    "try:\n",
    "    # Code that may raise an exception\n",
    "    result = 10 / 0\n",
    "    print(result)\n",
    "except ZeroDivisionError:\n",
    "    # Handling a specific exception\n",
    "    print(\"An error occurred: Division by zero\")\n"
   ]
  },
  {
   "cell_type": "code",
   "execution_count": null,
   "id": "f803e4f4",
   "metadata": {},
   "outputs": [],
   "source": []
  }
 ],
 "metadata": {
  "hide_input": false,
  "kernelspec": {
   "display_name": "Python 3 (ipykernel)",
   "language": "python",
   "name": "python3"
  },
  "language_info": {
   "codemirror_mode": {
    "name": "ipython",
    "version": 3
   },
   "file_extension": ".py",
   "mimetype": "text/x-python",
   "name": "python",
   "nbconvert_exporter": "python",
   "pygments_lexer": "ipython3",
   "version": "3.8.8"
  },
  "toc": {
   "base_numbering": 1,
   "nav_menu": {},
   "number_sections": true,
   "sideBar": true,
   "skip_h1_title": false,
   "title_cell": "Table of Contents",
   "title_sidebar": "Contents",
   "toc_cell": false,
   "toc_position": {},
   "toc_section_display": true,
   "toc_window_display": false
  },
  "varInspector": {
   "cols": {
    "lenName": 16,
    "lenType": 16,
    "lenVar": 40
   },
   "kernels_config": {
    "python": {
     "delete_cmd_postfix": "",
     "delete_cmd_prefix": "del ",
     "library": "var_list.py",
     "varRefreshCmd": "print(var_dic_list())"
    },
    "r": {
     "delete_cmd_postfix": ") ",
     "delete_cmd_prefix": "rm(",
     "library": "var_list.r",
     "varRefreshCmd": "cat(var_dic_list()) "
    }
   },
   "types_to_exclude": [
    "module",
    "function",
    "builtin_function_or_method",
    "instance",
    "_Feature"
   ],
   "window_display": false
  }
 },
 "nbformat": 4,
 "nbformat_minor": 5
}
