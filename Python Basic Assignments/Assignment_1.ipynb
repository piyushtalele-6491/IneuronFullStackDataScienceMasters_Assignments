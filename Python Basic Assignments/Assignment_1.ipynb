{
 "cells": [
  {
   "cell_type": "markdown",
   "id": "14a27380",
   "metadata": {
    "ExecuteTime": {
     "end_time": "2023-05-25T10:57:37.855270Z",
     "start_time": "2023-05-25T10:57:37.840141Z"
    }
   },
   "source": [
    "#### In the below elements which of them are values or an expression? eg:- values can be integer or string and expressions will be mathematical operators.\n",
    "* \n",
    "'hello'\n",
    "-87.8\n",
    "- \n",
    "/ \n",
    "+\t\n",
    "6 \n"
   ]
  },
  {
   "cell_type": "raw",
   "id": "ed070a8c",
   "metadata": {},
   "source": [
    "'hello' - string \n",
    "87.8 - float\n",
    "/ - operator\n",
    "6 - int"
   ]
  },
  {
   "cell_type": "markdown",
   "id": "871d310e",
   "metadata": {},
   "source": [
    "#### What is the difference between string and variable?\n",
    "\n"
   ]
  },
  {
   "cell_type": "raw",
   "id": "30686f5e",
   "metadata": {},
   "source": [
    "string is a class (reference datatype).It is used to represent text type data.\n",
    "\n",
    "variable are names given to temporary storage locations for storing data that can represent any value\n",
    "\n",
    "example:\n",
    "\n",
    "String x=\"piyush\";\n",
    "// here x is variable and type of value it stores is in string"
   ]
  },
  {
   "cell_type": "markdown",
   "id": "fde44072",
   "metadata": {},
   "source": [
    "#### Describe three different data types.\n",
    "\n",
    "\n"
   ]
  },
  {
   "cell_type": "raw",
   "id": "75a0355f",
   "metadata": {},
   "source": [
    "The following are the different datatypes in python\n",
    "Text Type      :   str\n",
    "Numeric Type   :   int, float, complex\n",
    "Sequence Type  :   list,tuple, range\n",
    "Mapping Type   :   dict\n",
    "Set Types      :   set, frozenset\n",
    "Boolean Type   :   bool\n",
    "Binary Type    :   bytes, bytesarray, memoryview\n",
    "None Type      :   NoneType\n",
    "\n",
    "\n",
    "\n",
    "\n"
   ]
  },
  {
   "cell_type": "code",
   "execution_count": 3,
   "id": "a9ab11f2",
   "metadata": {
    "ExecuteTime": {
     "end_time": "2023-05-25T11:40:38.822825Z",
     "start_time": "2023-05-25T11:40:38.814044Z"
    }
   },
   "outputs": [],
   "source": [
    "# DataType Output: str\n",
    "x = \"Hello World\"\n",
    "\n",
    "# DataType Output: int\n",
    "x = 50\n",
    "\n",
    "# DataType Output: float\n",
    "x = 60.5\n",
    "\n",
    "# DataType Output: complex\n",
    "x = 3j\n",
    "\n",
    "# DataType Output: list\n",
    "x = [\"Hello\", \"World\"]\n",
    "\n",
    "# DataType Output: tuple\n",
    "x = (\"Hello\", \"World\")\n",
    "\n",
    "# DataType Output: range\n",
    "x = range(10)\n",
    "\n",
    "# DataType Output: dict\n",
    "x = {\"name\": \"Piyush\", \"age\": 32}\n",
    "\n",
    "# DataType Output: set\n",
    "x = {\"Hello\", \"World\"}\n",
    "\n",
    "# DataType Output: frozenset\n",
    "x = frozenset({\"Hello\", \"World\"})\n",
    "\n",
    "# DataType Output: bool\n",
    "x = True\n",
    "\n",
    "# DataType Output: bytes\n",
    "x = b\"World\"\n",
    "\n",
    "# DataType Output: bytearray\n",
    "x = bytearray(4)\n",
    "\n",
    "# DataType Output: memoryview\n",
    "x = memoryview(bytes(6))\n",
    "\n",
    "# DataType Output: NoneType\n",
    "x = None\n"
   ]
  },
  {
   "cell_type": "markdown",
   "id": "a1122779",
   "metadata": {},
   "source": [
    "####  What is an expression made up of? What do all expressions do?\n"
   ]
  },
  {
   "cell_type": "raw",
   "id": "74038e8f",
   "metadata": {},
   "source": [
    "An expression is a combination of operator and operands that is interpreted to produce some other value.\n",
    "1. Constant Expressions: These are the expressions that have constant values only.\n",
    "   x = 15 + 1.3\n",
    "\n",
    "2. Arithmetic Expressions: An arithmetic expression is a combination of numeric values, operators, and sometimes parenthesis. The result of this type of expression is also a numeric value.\n",
    "   \n",
    "    x = 40\n",
    "    y = 12\n",
    "\n",
    "    add = x + y\n",
    "    sub = x - y\n",
    "    pro = x * y\n",
    "    div = x / y\n",
    "\n",
    "    print(add)\n",
    "    print(sub)\n",
    "    print(pro)\n",
    "    print(div)\n",
    "    \n",
    "3. Integral Expressions: These are the kind of expressions that produce only integer results after all computations and type conversions.\n",
    "    a = 13\n",
    "    b = 12.0\n",
    "  \n",
    "    c = a + int(b)\n",
    "    print(c)\n",
    "    \n",
    "4. Floating Expressions: These are the kind of expressions which produce floating point numbers as result after all computations and type conversions.\n",
    "    a = 13\n",
    "    b = 5\n",
    "  \n",
    "    c = a / b\n",
    "    print(c)\n",
    "    \n",
    "5. Relational Expressions: In these types of expressions, arithmetic expressions are written on both sides of relational operator (> , < , >= , <=). \n",
    "    a = 21\n",
    "    b = 13\n",
    "    c = 40\n",
    "    d = 37\n",
    "\n",
    "    p = (a + b) >= (c - d)\n",
    "    print(p)\n",
    "  \n",
    "6. Logical Expressions: These are kinds of expressions that result in either True or False. It basically specifies one or more conditions. \n",
    "    P = (10 == 9)\n",
    "    Q = (7 > 5)\n",
    "\n",
    "    # Logical Expressions\n",
    "    R = P and Q\n",
    "    S = P or Q\n",
    "    T = not P\n",
    "\n",
    "    print(R)\n",
    "    print(S)\n",
    "    print(T)\n",
    "\n",
    "7. Bitwise Expressions: These are the kind of expressions in which computations are performed at bit level.\n",
    "   # Bitwise Expressions\n",
    "    a = 12\n",
    "\n",
    "    x = a >> 2\n",
    "    y = a << 1\n",
    "\n",
    "    print(x, y)\n",
    "    \n",
    "8. Combinational Expressions: We can also use different types of expressions in a single expression, and that will be termed as combinational expressions.\n",
    "    # Combinational Expressions\n",
    "    a = 16\n",
    "    b = 12\n",
    "\n",
    "    c = a + (b >> 1)\n",
    "    print(c)"
   ]
  },
  {
   "cell_type": "markdown",
   "id": "8aa676d9",
   "metadata": {},
   "source": [
    "#### This assignment statements, like spam = 10. What is the difference between an expression and a statement?\n"
   ]
  },
  {
   "cell_type": "raw",
   "id": "4caa53da",
   "metadata": {},
   "source": [
    "Expressions are used to compute values, while statements are used to perform actions or control the flow of execution. \n",
    "\n",
    "Expressions can be part of statements, but statements cannot be part of expressions.\n",
    "\n",
    "2 + 3\n",
    "x * y\n",
    "len(my_list)\n",
    "x > y\n",
    "\n",
    "\n",
    "x = 5\n",
    "print(\"Hello, World!\")\n",
    "if x > 10:\n",
    "    print(\"x is greater than 10\")\n",
    "for i in range(5):\n",
    "    print(i)\n"
   ]
  },
  {
   "cell_type": "markdown",
   "id": "43458bbc",
   "metadata": {},
   "source": [
    "#### After running the following code, what does the variable bacon contain?\n",
    "bacon = 22\n",
    "\n",
    "bacon + 1\n",
    "\n"
   ]
  },
  {
   "cell_type": "raw",
   "id": "ed11c7da",
   "metadata": {
    "ExecuteTime": {
     "end_time": "2023-05-25T12:03:51.173175Z",
     "start_time": "2023-05-25T12:03:51.161436Z"
    }
   },
   "source": [
    "bacon will contain 22"
   ]
  },
  {
   "cell_type": "markdown",
   "id": "8d3016bf",
   "metadata": {},
   "source": [
    "#### What should the values of the following two terms be?\n",
    "\n",
    "'spam' + 'spamspam'\n",
    "\n",
    "\n",
    "'spam' * 3\n",
    "\n"
   ]
  },
  {
   "cell_type": "raw",
   "id": "a247e7ea",
   "metadata": {},
   "source": [
    "'spam' + 'spamspam' = The result is the string 'spamspamspam'.\n",
    "\n",
    "'spam' * 3 =  The result is the string 'spamspamspam'."
   ]
  },
  {
   "cell_type": "markdown",
   "id": "b7590a34",
   "metadata": {},
   "source": [
    "#### Why is eggs a valid variable name while 100 is invalid?\n"
   ]
  },
  {
   "cell_type": "raw",
   "id": "03c04bd1",
   "metadata": {},
   "source": [
    "eggs: This is a valid variable name because it starts with a letter ('e') and contains only letters, satisfying the rules for variable names.\n",
    "\n",
    "100: This is an invalid variable name because it starts with a number ('1'). According to the rules, variable names cannot start with a number."
   ]
  },
  {
   "cell_type": "markdown",
   "id": "39ee0b06",
   "metadata": {},
   "source": [
    "#### What three functions can be used to get the integer, floating-point number, or string version of a value?\n"
   ]
  },
  {
   "cell_type": "raw",
   "id": "84b9bc65",
   "metadata": {},
   "source": [
    "int(): This function can be used to convert a value to an integer. It takes a numeric or string argument and returns an integer version of that value. If the argument is a floating-point number, it will be truncated towards zero.\n",
    "\n",
    "\n",
    "\n",
    "float(): This function can be used to convert a value to a floating-point number. It takes a numeric or string argument and returns a floating-point version of that value. If the argument is an integer, it will be converted to a floating-point number.\n",
    "\n",
    "\n",
    "\n",
    "str(): This function can be used to convert a value to a string. It takes any Python object as an argument and returns a string representation of that value. It can be used to convert integers, floating-point numbers, or any other data type to a string.\n",
    "\n",
    "#Code\n",
    "value = 42\n",
    "integer_version = int(value)  # Converts value to an integer\n",
    "float_version = float(value)  # Converts value to a float\n",
    "string_version = str(value)  # Converts value to a string\n",
    "\n",
    "print(integer_version)  # Output: 42\n",
    "print(float_version)  # Output: 42.0\n",
    "print(string_version)  # Output: '42'"
   ]
  },
  {
   "cell_type": "markdown",
   "id": "72d984be",
   "metadata": {},
   "source": [
    "#### Why does this expression cause an error? How can you fix it?\n",
    "'I have eaten ' + 99 + ' burritos.'"
   ]
  },
  {
   "cell_type": "raw",
   "id": "e5f272bf",
   "metadata": {},
   "source": [
    "\n",
    "Error is present because it tries to concatenate a string ('I have eaten ') with an integer (99), and then again with another string (' burritos.'). \n",
    "\n",
    "Fix:\n",
    "\n",
    "'I have eaten ' + str(99) + ' burritos.'"
   ]
  },
  {
   "cell_type": "code",
   "execution_count": null,
   "id": "fae99c06",
   "metadata": {},
   "outputs": [],
   "source": []
  },
  {
   "cell_type": "code",
   "execution_count": null,
   "id": "dbf1ecae",
   "metadata": {},
   "outputs": [],
   "source": []
  }
 ],
 "metadata": {
  "hide_input": false,
  "kernelspec": {
   "display_name": "Python 3 (ipykernel)",
   "language": "python",
   "name": "python3"
  },
  "language_info": {
   "codemirror_mode": {
    "name": "ipython",
    "version": 3
   },
   "file_extension": ".py",
   "mimetype": "text/x-python",
   "name": "python",
   "nbconvert_exporter": "python",
   "pygments_lexer": "ipython3",
   "version": "3.8.8"
  },
  "toc": {
   "base_numbering": 1,
   "nav_menu": {},
   "number_sections": true,
   "sideBar": true,
   "skip_h1_title": false,
   "title_cell": "Table of Contents",
   "title_sidebar": "Contents",
   "toc_cell": false,
   "toc_position": {},
   "toc_section_display": true,
   "toc_window_display": false
  },
  "varInspector": {
   "cols": {
    "lenName": 16,
    "lenType": 16,
    "lenVar": 40
   },
   "kernels_config": {
    "python": {
     "delete_cmd_postfix": "",
     "delete_cmd_prefix": "del ",
     "library": "var_list.py",
     "varRefreshCmd": "print(var_dic_list())"
    },
    "r": {
     "delete_cmd_postfix": ") ",
     "delete_cmd_prefix": "rm(",
     "library": "var_list.r",
     "varRefreshCmd": "cat(var_dic_list()) "
    }
   },
   "types_to_exclude": [
    "module",
    "function",
    "builtin_function_or_method",
    "instance",
    "_Feature"
   ],
   "window_display": false
  }
 },
 "nbformat": 4,
 "nbformat_minor": 5
}
